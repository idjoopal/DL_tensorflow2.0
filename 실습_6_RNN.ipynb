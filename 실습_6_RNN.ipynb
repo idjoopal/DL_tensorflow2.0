{
  "nbformat": 4,
  "nbformat_minor": 0,
  "metadata": {
    "colab": {
      "name": "실습_6_RNN.ipynb",
      "provenance": [],
      "collapsed_sections": [],
      "toc_visible": true,
      "machine_shape": "hm",
      "include_colab_link": true
    },
    "kernelspec": {
      "name": "python3",
      "display_name": "Python 3"
    },
    "accelerator": "GPU"
  },
  "cells": [
    {
      "cell_type": "markdown",
      "metadata": {
        "id": "view-in-github",
        "colab_type": "text"
      },
      "source": [
        "<a href=\"https://colab.research.google.com/github/idjoopal/DL_tensorflow2.0/blob/main/%EC%8B%A4%EC%8A%B5_6_RNN.ipynb\" target=\"_parent\"><img src=\"https://colab.research.google.com/assets/colab-badge.svg\" alt=\"Open In Colab\"/></a>"
      ]
    },
    {
      "cell_type": "markdown",
      "metadata": {
        "id": "RQuwLrfneJGq"
      },
      "source": [
        "# 감성분석 실습\n",
        "\n",
        "<b>학습 목표:    \n",
        "- 한국어 자연어처리의 전반적인 FLOW를 이해한다.\n",
        "- keras.Sequantial 모듈을 이용해 간단한 감성분석 모델을 구현해 학습하고, 학습 결과를 진단한다.</b>\n",
        "\n",
        "\n",
        "\n",
        "\n",
        "\n",
        "\n"
      ]
    },
    {
      "cell_type": "markdown",
      "metadata": {
        "id": "1wg2UE1UiAne"
      },
      "source": [
        "\n",
        "<font color = \"red\"> \n",
        "QUIZ:   \n",
        "숫자만 인식할 수 있는 기계학습 모델에게 자연어를 인식시키는 방법은? </font>"
      ]
    },
    {
      "cell_type": "code",
      "metadata": {
        "id": "D5Cnajwnc73B"
      },
      "source": [
        "import numpy as np\n",
        "\n",
        "import tensorflow as tf\n",
        "\n",
        "from tensorflow.keras.models import Sequential\n",
        "from tensorflow.keras.layers import Embedding, Dense, LSTM \n",
        " "
      ],
      "execution_count": null,
      "outputs": []
    },
    {
      "cell_type": "markdown",
      "metadata": {
        "id": "GHdvwAFpEcpS"
      },
      "source": [
        "# # 1. 자연어처리 플로우 이해하기"
      ]
    },
    {
      "cell_type": "markdown",
      "metadata": {
        "id": "4RfgQ96FEjKz"
      },
      "source": [
        "### Step 1. Parsing\n",
        "- 문장을 음절(character)단위로 쪼개기\n"
      ]
    },
    {
      "cell_type": "code",
      "metadata": {
        "id": "SXHdDffgaggl"
      },
      "source": [
        "def tokenize(sentence): \n",
        "  return [char for char in sentence]"
      ],
      "execution_count": null,
      "outputs": []
    },
    {
      "cell_type": "code",
      "metadata": {
        "id": "l_qXa9a0Ehzv",
        "outputId": "21e7393e-3565-4501-a04e-64a406524a7f",
        "colab": {
          "base_uri": "https://localhost:8080/"
        }
      },
      "source": [
        "sentence1 = \"시간 가는 줄 알고 봤습니다.\"\n",
        "sentence2 = \"안보면 후회ㅠㅠ...\"\n",
        "parsed_sent1 = tokenize(sentence1)\n",
        "parsed_sent2 = tokenize(sentence2)\n",
        "print(\"문장 1:\", parsed_sent1)\n",
        "print(\"문장 2:\", parsed_sent2)"
      ],
      "execution_count": null,
      "outputs": [
        {
          "output_type": "stream",
          "text": [
            "문장 1: ['시', '간', ' ', '가', '는', ' ', '줄', ' ', '알', '고', ' ', '봤', '습', '니', '다', '.']\n",
            "문장 2: ['안', '보', '면', ' ', '후', '회', 'ㅠ', 'ㅠ', '.', '.', '.']\n"
          ],
          "name": "stdout"
        }
      ]
    },
    {
      "cell_type": "markdown",
      "metadata": {
        "id": "bdzQGbXMFJNu"
      },
      "source": [
        "### Step 2. 모델 인풋 만들기\n"
      ]
    },
    {
      "cell_type": "markdown",
      "metadata": {
        "id": "yLSdN7ROFdwN"
      },
      "source": [
        "#### 2-1) 음절 사전 만들기\n",
        "각 음절 캐릭터를 모델이 처리할 수 있는 정수 인덱스로 변환해야 함\n",
        "- 캐릭터를 정수로 매핑하는 사전 만들기\n",
        "- 배치 연산을 위해 필요한 Padding([PAD])과 Out of vocabulary([OOV]) 토큰을 항상 맨 앞에 추가해둠"
      ]
    },
    {
      "cell_type": "code",
      "metadata": {
        "id": "JaZkpgi9Eh5a",
        "outputId": "c9a51581-f148-41ed-8710-50eb9bdb1ecf",
        "colab": {
          "base_uri": "https://localhost:8080/"
        }
      },
      "source": [
        "vocab_dict = {}\n",
        "vocab_dict[\"[PAD]\"] = 0\n",
        "vocab_dict[\"[OOV]\"] = 1\n",
        "i = 2\n",
        "for word in parsed_sent1:\n",
        "    if word not in vocab_dict.keys():\n",
        "        vocab_dict[word] = i\n",
        "        i += 1\n",
        "for word in parsed_sent2:\n",
        "    if word not in vocab_dict.keys():\n",
        "        vocab_dict[word] = i\n",
        "        i += 1\n",
        "print(\"Vocab Dictionary Example:\")\n",
        "print(vocab_dict)"
      ],
      "execution_count": null,
      "outputs": [
        {
          "output_type": "stream",
          "text": [
            "Vocab Dictionary Example:\n",
            "{'[PAD]': 0, '[OOV]': 1, '시': 2, '간': 3, ' ': 4, '가': 5, '는': 6, '줄': 7, '알': 8, '고': 9, '봤': 10, '습': 11, '니': 12, '다': 13, '.': 14, '안': 15, '보': 16, '면': 17, '후': 18, '회': 19, 'ㅠ': 20}\n"
          ],
          "name": "stdout"
        }
      ]
    },
    {
      "cell_type": "markdown",
      "metadata": {
        "id": "MCyqBSGYFjXx"
      },
      "source": [
        "#### 2-2) vocab_dict를 이용해 자연어를 정수 인덱스로 바꾸기\n",
        "- 위에서 만든 vocab_dict를 이용해 잘라놓은 문장을 모델에 태울 수 있는 정수 인덱스로 바꾸기\n",
        "- 기본적으로 LSTM은 가변적인 문장 길이를 인풋으로 받을 수 있지만, 배치 처리를 위해 <font color=\"blue\">max_seq_len</font>을 정해두고 길이를 통일함    \n",
        "    - max_seq_len 보다 짧은 문장에는 max_seq_len이 될 때까지 [PAD]에 해당하는 인덱스를 붙여줌\n",
        "    - max_seq_len 보다 긴 문장은 max_seq_len 개의 토큰만 남기고 자름    \n",
        "    - tensorflow.keras.preprocessing.sequence의 <font color=\"blue\">pad_sequences</font> 기능 사용"
      ]
    },
    {
      "cell_type": "code",
      "metadata": {
        "id": "0IfdgEZOEh3q",
        "outputId": "1b54152d-f5b6-4177-aadb-9ce6f6c6175d",
        "colab": {
          "base_uri": "https://localhost:8080/"
        }
      },
      "source": [
        "max_seq_len = 20\n",
        "\n",
        "input_id1 = [vocab_dict[word] for word in parsed_sent1]\n",
        "input_id2 = [vocab_dict[word] for word in parsed_sent2]\n",
        "\n",
        "# Padding\n",
        "from tensorflow.keras.preprocessing.sequence import pad_sequences\n",
        "input_ids = [input_id1, input_id2]\n",
        "input_ids = pad_sequences(input_ids, maxlen=max_seq_len, value = vocab_dict['[PAD]']) \n",
        "print(input_ids)"
      ],
      "execution_count": null,
      "outputs": [
        {
          "output_type": "stream",
          "text": [
            "[[ 0  0  0  0  2  3  4  5  6  4  7  4  8  9  4 10 11 12 13 14]\n",
            " [ 0  0  0  0  0  0  0  0  0 15 16 17  4 18 19 20 20 14 14 14]]\n"
          ],
          "name": "stdout"
        }
      ]
    },
    {
      "cell_type": "markdown",
      "metadata": {
        "id": "jGyE471IGDs1"
      },
      "source": [
        "### Step3. 모델 만들기\n",
        "\n",
        "- 임베딩 레이어 : Embedding()\n",
        "- LSTM : LSTM()\n",
        "- FC layer : Dense()   \n",
        "- LSTM을 사용해 문장을 인코딩하고, Fully Connected layer을 두 층 쌓아 최종 output을 생성"
      ]
    },
    {
      "cell_type": "code",
      "metadata": {
        "id": "cMgZkCRJSaF2",
        "outputId": "5474d671-6eb3-4fa3-844f-511240c5baf0",
        "colab": {
          "base_uri": "https://localhost:8080/"
        }
      },
      "source": [
        "vocab_size = len(vocab_dict)        # 단어사전 개수\n",
        "embedding_dim = 30     # 임베딩 차원\n",
        "lstm_hidden_dim = 50   # LSTM hidden_size \n",
        "dense_dim = 32         # FC layer size\n",
        "batch_size = 2         # batch size\n",
        "\n",
        "model = Sequential([\n",
        "    Embedding(vocab_size, embedding_dim),\n",
        "    LSTM(lstm_hidden_dim),\n",
        "    Dense(dense_dim, activation='relu'),\n",
        "    Dense(2, activation='softmax')\n",
        "])\n",
        "\n",
        "model.summary()"
      ],
      "execution_count": null,
      "outputs": [
        {
          "output_type": "stream",
          "text": [
            "Model: \"sequential\"\n",
            "_________________________________________________________________\n",
            "Layer (type)                 Output Shape              Param #   \n",
            "=================================================================\n",
            "embedding (Embedding)        (None, None, 30)          630       \n",
            "_________________________________________________________________\n",
            "lstm (LSTM)                  (None, 50)                16200     \n",
            "_________________________________________________________________\n",
            "dense (Dense)                (None, 32)                1632      \n",
            "_________________________________________________________________\n",
            "dense_1 (Dense)              (None, 2)                 66        \n",
            "=================================================================\n",
            "Total params: 18,528\n",
            "Trainable params: 18,528\n",
            "Non-trainable params: 0\n",
            "_________________________________________________________________\n"
          ],
          "name": "stdout"
        }
      ]
    },
    {
      "cell_type": "markdown",
      "metadata": {
        "id": "rn2t4PeDRjfI"
      },
      "source": [
        "- <b>model.predict()</b> 메서드를 사용하면 인풋에 대해 모델의 예측값을 얻을 수 있음.   "
      ]
    },
    {
      "cell_type": "code",
      "metadata": {
        "id": "TnagVZncO9U-",
        "outputId": "7e19eb08-0583-4dae-d308-fd9b84d3688f",
        "colab": {
          "base_uri": "https://localhost:8080/"
        }
      },
      "source": [
        "scores = model.predict(input_ids)\n",
        "\n",
        "for i, s in enumerate(scores):\n",
        "    print(\"문장 {} → 긍정: {:.2f} / 부정: {:.2f}\".format(i, s[0],s[1]))"
      ],
      "execution_count": null,
      "outputs": [
        {
          "output_type": "stream",
          "text": [
            "문장 0 → 긍정: 0.50 / 부정: 0.50\n",
            "문장 1 → 긍정: 0.50 / 부정: 0.50\n"
          ],
          "name": "stdout"
        }
      ]
    },
    {
      "cell_type": "markdown",
      "metadata": {
        "id": "btopfDwJv2l3"
      },
      "source": [
        "# # 2. LSTM으로 감성분석 모델 훈련하기"
      ]
    },
    {
      "cell_type": "markdown",
      "metadata": {
        "id": "3YJfJrzDPG1H"
      },
      "source": [
        "### Step 0. 학습 데이터 준비하기\n",
        "<img src = \"https://github.com/seungyounglim/temporary/blob/master/image_5.PNG?raw=true\">    \n",
        "\n",
        "- 네이버 영화 감성분석 데이터셋 활용\n",
        "- 훈련 데이터 150,000건, 테스트 데이터 50,000건"
      ]
    },
    {
      "cell_type": "code",
      "metadata": {
        "id": "LHygGkDeiyUZ",
        "outputId": "b72ef478-1677-4bfc-beb2-e2c70975f7d7",
        "colab": {
          "base_uri": "https://localhost:8080/"
        }
      },
      "source": [
        "\"\"\" 네이버 영화 리뷰 데이터셋 다운로드 \"\"\"\n",
        "!wget https://raw.githubusercontent.com/e9t/nsmc/master/ratings_train.txt\n",
        "!wget https://raw.githubusercontent.com/e9t/nsmc/master/ratings_test.txt"
      ],
      "execution_count": null,
      "outputs": [
        {
          "output_type": "stream",
          "text": [
            "--2020-11-11 05:15:06--  https://raw.githubusercontent.com/e9t/nsmc/master/ratings_train.txt\n",
            "Resolving raw.githubusercontent.com (raw.githubusercontent.com)... 151.101.0.133, 151.101.64.133, 151.101.128.133, ...\n",
            "Connecting to raw.githubusercontent.com (raw.githubusercontent.com)|151.101.0.133|:443... connected.\n",
            "HTTP request sent, awaiting response... 200 OK\n",
            "Length: 14628807 (14M) [text/plain]\n",
            "Saving to: ‘ratings_train.txt’\n",
            "\n",
            "ratings_train.txt   100%[===================>]  13.95M  43.3MB/s    in 0.3s    \n",
            "\n",
            "2020-11-11 05:15:07 (43.3 MB/s) - ‘ratings_train.txt’ saved [14628807/14628807]\n",
            "\n",
            "--2020-11-11 05:15:07--  https://raw.githubusercontent.com/e9t/nsmc/master/ratings_test.txt\n",
            "Resolving raw.githubusercontent.com (raw.githubusercontent.com)... 151.101.0.133, 151.101.64.133, 151.101.128.133, ...\n",
            "Connecting to raw.githubusercontent.com (raw.githubusercontent.com)|151.101.0.133|:443... connected.\n",
            "HTTP request sent, awaiting response... 200 OK\n",
            "Length: 4893335 (4.7M) [text/plain]\n",
            "Saving to: ‘ratings_test.txt’\n",
            "\n",
            "ratings_test.txt    100%[===================>]   4.67M  15.4MB/s    in 0.3s    \n",
            "\n",
            "2020-11-11 05:15:08 (15.4 MB/s) - ‘ratings_test.txt’ saved [4893335/4893335]\n",
            "\n"
          ],
          "name": "stdout"
        }
      ]
    },
    {
      "cell_type": "code",
      "metadata": {
        "id": "HpUMj2VCv_Xu",
        "outputId": "667c7beb-4461-4994-830e-618cc8dbe06f",
        "colab": {
          "base_uri": "https://localhost:8080/"
        }
      },
      "source": [
        "\"\"\" 데이터 읽어오기 \"\"\"\n",
        "\n",
        "with open(\"ratings_train.txt\") as f:\n",
        "    raw_train = f.readlines()\n",
        "with open(\"ratings_test.txt\") as f:\n",
        "    raw_test = f.readlines()\n",
        "raw_train = [t.split('\\t') for t in raw_train[1:]]\n",
        "raw_test = [t.split('\\t') for t in raw_test[1:]]\n",
        "\n",
        "FULL_TRAIN = []\n",
        "for line in raw_train:\n",
        "    FULL_TRAIN.append([line[0], line[1], int(line[2].strip())])\n",
        "FULL_TEST = []\n",
        "for line in raw_test:\n",
        "    FULL_TEST.append([line[0], line[1], int(line[2].strip())])\n",
        "print(\"FULL_TRAIN: {}개 (긍정 {}, 부정 {})\".format(len(FULL_TRAIN), sum([t[2] for t in FULL_TRAIN]), len(FULL_TRAIN)-sum([t[2] for t in FULL_TRAIN])), FULL_TRAIN[0])\n",
        "print(\"FULL_TEST : {}개 (긍정 {}, 부정 {})\".format(len(FULL_TEST), sum([t[2] for t in FULL_TEST]), len(FULL_TEST)-sum([t[2] for t in FULL_TEST])), FULL_TEST[0])"
      ],
      "execution_count": null,
      "outputs": [
        {
          "output_type": "stream",
          "text": [
            "FULL_TRAIN: 150000개 (긍정 74827, 부정 75173) ['9976970', '아 더빙.. 진짜 짜증나네요 목소리', 0]\n",
            "FULL_TEST : 50000개 (긍정 25173, 부정 24827) ['6270596', '굳 ㅋ', 1]\n"
          ],
          "name": "stdout"
        }
      ]
    },
    {
      "cell_type": "markdown",
      "metadata": {
        "id": "T1IWVSphmZ42"
      },
      "source": [
        "### label \n",
        "> 0: 부정\n",
        "\n",
        "> 1: 긍정"
      ]
    },
    {
      "cell_type": "markdown",
      "metadata": {
        "id": "JCyE6Ia5uopA"
      },
      "source": [
        "<img src = \"https://github.com/seungyounglim/temporary/blob/master/image_6.PNG?raw=true\">  \n",
        "- 시간 관계상 train 중 50,000건을 학습데이터, 10,000건을 검증 데이터로 사용\n",
        "- test 중 10,000건만 샘플링하여 최종 성능 테스트에 사용"
      ]
    },
    {
      "cell_type": "code",
      "metadata": {
        "id": "k_xG06TPI9vl",
        "outputId": "23d5f68f-5916-4dc0-a274-7e14e3cde271",
        "colab": {
          "base_uri": "https://localhost:8080/"
        }
      },
      "source": [
        "import random\n",
        "random.seed(1)\n",
        "random.shuffle(FULL_TRAIN)\n",
        "random.shuffle(FULL_TEST)\n",
        "train = FULL_TRAIN[:50000]\n",
        "val = FULL_TRAIN[50000:60000]\n",
        "test = FULL_TEST[:10000]\n",
        "print(\"train     : {}개 (긍정 {}, 부정 {})\".format(len(train), sum([t[2] for t in train]), len(train)-sum([t[2] for t in train])), train[0])\n",
        "print(\"validation: {}개 (긍정 {}, 부정 {})\".format(len(val), sum([t[2] for t in val]), len(val)-sum([t[2] for t in val])), val[0])\n",
        "print(\"test      : {}개 (긍정 {}, 부정 {})\".format(len(test), sum([t[2] for t in test]), len(test)-sum([t[2] for t in test])), test[0])"
      ],
      "execution_count": null,
      "outputs": [
        {
          "output_type": "stream",
          "text": [
            "train     : 50000개 (긍정 24914, 부정 25086) ['7570203', '장쯔이 그때나 지금이나 이뻤다', 1]\n",
            "validation: 10000개 (긍정 4962, 부정 5038) ['8413570', '거지 발싸개같은 영화도 자막 파일이 넘쳐나는게 허다한데, 왜 이 좋은 영화는 자막을 구할수가 없을까.. 60, 70년대의 프랑스, 이탈리아, 독일의 수작들이 자막이 없어서 수OO이 지난 지금도 일반 대중에게 제대로 알려지지 못했다.', 1]\n",
            "test      : 10000개 (긍정 5027, 부정 4973) ['1458790', '허우 샤오시엔 작품은 모두 만점!', 1]\n"
          ],
          "name": "stdout"
        }
      ]
    },
    {
      "cell_type": "markdown",
      "metadata": {
        "id": "7jykZkziwnd2"
      },
      "source": [
        "## Step 1. Parsing\n",
        "- Train/ Test의 문장을 음절단위로 파싱하여 train_sentences, test_sentences에 저장해둠.\n",
        "- categorical_crossentropy loss를 사용하기 위해 정답 라벨은 One-hot encoding 형식으로 저장\n",
        "   - 부정 -> [1, 0]\n",
        "   - 긍정 -> [0, 1]"
      ]
    },
    {
      "cell_type": "code",
      "metadata": {
        "id": "D9HFloKROOnT",
        "outputId": "14f1424d-8923-471f-b5d1-6fe336e961a1",
        "colab": {
          "base_uri": "https://localhost:8080/"
        }
      },
      "source": [
        "train_sentences = []\n",
        "val_sentences = []\n",
        "test_sentences = []\n",
        "\n",
        "# 추후 학습/ 테스트를 위해 라벨 정보 저장해둠\n",
        "train_label_ids = []\n",
        "val_label_ids = []\n",
        "test_label_ids = []\n",
        "\n",
        "print(\"start tokenizing TRAIN sentences\")\n",
        "for i, line in enumerate(train):\n",
        "    words = tokenize(line[1])\n",
        "    train_sentences.append(words)\n",
        "    if line[2] == 0: # 부정\n",
        "      train_label_ids.append([1,0])\n",
        "    else: #긍정\n",
        "      train_label_ids.append([0,1])\n",
        "\n",
        "    if (i+1) % 5000 == 0: print(\"... {}/{} done\".format(i+1, len(train)))\n",
        "\n",
        "print(\"example:\", train_sentences[-1], train_label_ids[-1], \"\\n\")\n",
        "\n",
        "print(\"start tokenizing VALIDATION sentences\")\n",
        "\n",
        "for line in val:\n",
        "    words = tokenize(line[1])\n",
        "    val_sentences.append(words)\n",
        "    if line[2] == 0: # 부정\n",
        "      val_label_ids.append([1,0])\n",
        "    else: #긍정\n",
        "      val_label_ids.append([0,1])\n",
        "print(\"... done\\n\")\n",
        "\n",
        "print(\"start tokenizing TEST sentences\")\n",
        "for line in test:\n",
        "    words = tokenize(line[1])\n",
        "    test_sentences.append(words)\n",
        "    if line[2] == 0: # 부정\n",
        "      test_label_ids.append([1,0])\n",
        "    else: #긍정\n",
        "      test_label_ids.append([0,1])\n",
        "\n",
        "print(\"... done\")"
      ],
      "execution_count": null,
      "outputs": [
        {
          "output_type": "stream",
          "text": [
            "start tokenizing TRAIN sentences\n",
            "... 5000/50000 done\n",
            "... 10000/50000 done\n",
            "... 15000/50000 done\n",
            "... 20000/50000 done\n",
            "... 25000/50000 done\n",
            "... 30000/50000 done\n",
            "... 35000/50000 done\n",
            "... 40000/50000 done\n",
            "... 45000/50000 done\n",
            "... 50000/50000 done\n",
            "example: ['이', '제', '껏', ' ', '본', ' ', '일', '본', ' ', '영', '화', '중', '에', '서', ' ', '제', '일', ' ', '별', '로', '네', '요', ' ', '3', '명', ' ', '다', ' ', '소', '신', '이', '라', '곤', ' ', '없', '고', ' ', '결', '혼', ' ', '못', '해', ' ', '안', '달', '난', ' ', '여', '자', '들', '이', ' ', '우', '울', '함', '만', ' ', '뿜', '어', '내', '다', ' ', '마', '지', '막', '에', ' ', '일', '본', ' ', '특', '유', '의', ' ', '감', '동', '멘', '트', '로', ' ', '마', '무', '리', ' ', '시', '간', '이', ' ', '아', '깝', '네', '요'] [1, 0] \n",
            "\n",
            "start tokenizing VALIDATION sentences\n",
            "... done\n",
            "\n",
            "start tokenizing TEST sentences\n",
            "... done\n"
          ],
          "name": "stdout"
        }
      ]
    },
    {
      "cell_type": "markdown",
      "metadata": {
        "id": "58bDXwmsH2x6"
      },
      "source": [
        "##Step 2. 모델 인풋 만들기"
      ]
    },
    {
      "cell_type": "markdown",
      "metadata": {
        "id": "UFXWtJDWdH1E"
      },
      "source": [
        "#### 2-1) 단어사전 만들기\n",
        "- 훈련 데이터 문장에 있는 음절을 이용해 구축\n",
        "- (일반적으로는 더 많은 코퍼스에 대해 구축된 사전을 사용하지만, 편의상 훈련셋만으로 진행)\n",
        "\n",
        "# 실습 MISSION\n",
        "[CODE] 부분을 채워넣어 단어사전을 만들고 생성된 단어사전의 크기를 확인해보세요. "
      ]
    },
    {
      "cell_type": "code",
      "metadata": {
        "id": "VAfNMCpgwdww",
        "outputId": "2814d3bd-071f-4674-ff7b-dab6c4ade7b4",
        "colab": {
          "base_uri": "https://localhost:8080/"
        }
      },
      "source": [
        "from tqdm import tqdm\n",
        "\n",
        "vocab_dict = {}\n",
        "vocab_dict[\"[PAD]\"] = 0\n",
        "vocab_dict[\"[OOV]\"] = 1\n",
        "i = 2\n",
        "for sentence in train_sentences:\n",
        "    for word in sentence:\n",
        "        if word not in vocab_dict.keys():\n",
        "            ## [CODE] ##\n",
        "            vocab_dict[word] = i\n",
        "            ############\n",
        "            i += 1\n",
        "print(\"Vocab Dictionary Size:\", len(vocab_dict))"
      ],
      "execution_count": null,
      "outputs": [
        {
          "output_type": "stream",
          "text": [
            "Vocab Dictionary Size: 2343\n"
          ],
          "name": "stdout"
        }
      ]
    },
    {
      "cell_type": "code",
      "metadata": {
        "id": "n09f17KzxdEf",
        "outputId": "f8b0c286-3dbd-448f-92f4-d3d6cb07a4e9",
        "colab": {
          "base_uri": "https://localhost:8080/"
        }
      },
      "source": [
        "vocab_dict"
      ],
      "execution_count": null,
      "outputs": [
        {
          "output_type": "execute_result",
          "data": {
            "text/plain": [
              "{'[PAD]': 0,\n",
              " '[OOV]': 1,\n",
              " '장': 2,\n",
              " '쯔': 3,\n",
              " '이': 4,\n",
              " ' ': 5,\n",
              " '그': 6,\n",
              " '때': 7,\n",
              " '나': 8,\n",
              " '지': 9,\n",
              " '금': 10,\n",
              " '뻤': 11,\n",
              " '다': 12,\n",
              " '음': 13,\n",
              " '식': 14,\n",
              " '가': 15,\n",
              " '고': 16,\n",
              " '사': 17,\n",
              " '람': 18,\n",
              " '을': 19,\n",
              " '해': 20,\n",
              " '친': 21,\n",
              " '명': 22,\n",
              " '되': 23,\n",
              " ',': 24,\n",
              " '인': 25,\n",
              " '주': 26,\n",
              " '는': 27,\n",
              " '끝': 28,\n",
              " '까': 29,\n",
              " '반': 30,\n",
              " '성': 31,\n",
              " '도': 32,\n",
              " '없': 33,\n",
              " '구': 34,\n",
              " '막': 35,\n",
              " '드': 36,\n",
              " '라': 37,\n",
              " '마': 38,\n",
              " '로': 39,\n",
              " '기': 40,\n",
              " '억': 41,\n",
              " '될': 42,\n",
              " '듯': 43,\n",
              " '뭔': 44,\n",
              " '내': 45,\n",
              " '용': 46,\n",
              " '모': 47,\n",
              " '르': 48,\n",
              " '겟': 49,\n",
              " '돈': 50,\n",
              " '아': 51,\n",
              " '깝': 52,\n",
              " '흥': 53,\n",
              " '미': 54,\n",
              " '를': 55,\n",
              " '유': 56,\n",
              " '발': 57,\n",
              " '하': 58,\n",
              " '못': 59,\n",
              " '허': 60,\n",
              " '술': 61,\n",
              " '한': 62,\n",
              " '야': 63,\n",
              " '와': 64,\n",
              " '공': 65,\n",
              " '포': 66,\n",
              " '스': 67,\n",
              " '럽': 68,\n",
              " '않': 69,\n",
              " '은': 70,\n",
              " '전': 71,\n",
              " '개': 72,\n",
              " '시': 73,\n",
              " '간': 74,\n",
              " '군': 75,\n",
              " '쾌': 76,\n",
              " '깔': 77,\n",
              " '끔': 78,\n",
              " '.': 79,\n",
              " '김': 80,\n",
              " '조': 81,\n",
              " '광': 82,\n",
              " '수': 83,\n",
              " '님': 84,\n",
              " '연': 85,\n",
              " '출': 86,\n",
              " '더': 87,\n",
              " '욱': 88,\n",
              " '매': 89,\n",
              " '끄': 90,\n",
              " '러': 91,\n",
              " '워': 92,\n",
              " '진': 93,\n",
              " '떠': 94,\n",
              " '올': 95,\n",
              " '리': 96,\n",
              " '싶': 97,\n",
              " '부': 98,\n",
              " '운': 99,\n",
              " '국': 100,\n",
              " '어': 101,\n",
              " '린': 102,\n",
              " '책': 103,\n",
              " '훨': 104,\n",
              " '잼': 105,\n",
              " '럭': 106,\n",
              " '저': 107,\n",
              " '예': 108,\n",
              " '요': 109,\n",
              " '할': 110,\n",
              " '일': 111,\n",
              " '싸': 112,\n",
              " '려': 113,\n",
              " '영': 114,\n",
              " '화': 115,\n",
              " '입': 116,\n",
              " '서': 117,\n",
              " '벌': 118,\n",
              " '쳐': 119,\n",
              " '먹': 120,\n",
              " '으': 121,\n",
              " '캬': 122,\n",
              " '악': 123,\n",
              " '퉤': 124,\n",
              " 'ㅔ': 125,\n",
              " '뿔': 126,\n",
              " '같': 127,\n",
              " '잖': 128,\n",
              " '메': 129,\n",
              " '세': 130,\n",
              " '접': 131,\n",
              " '상': 132,\n",
              " '보': 133,\n",
              " '엔': 134,\n",
              " '우': 135,\n",
              " '게': 136,\n",
              " '왜': 137,\n",
              " '렇': 138,\n",
              " '평': 139,\n",
              " '점': 140,\n",
              " '낮': 141,\n",
              " '냐': 142,\n",
              " 'ㅡ': 143,\n",
              " '작': 144,\n",
              " '데': 145,\n",
              " '랑': 146,\n",
              " '했': 147,\n",
              " '던': 148,\n",
              " '의': 149,\n",
              " '빈': 150,\n",
              " '자': 151,\n",
              " '에': 152,\n",
              " '당': 153,\n",
              " '황': 154,\n",
              " '불': 155,\n",
              " '안': 156,\n",
              " '딸': 157,\n",
              " '극': 158,\n",
              " '록': 159,\n",
              " '애': 160,\n",
              " '잔': 161,\n",
              " '슬': 162,\n",
              " '픔': 163,\n",
              " '역': 164,\n",
              " '셸': 165,\n",
              " '오': 166,\n",
              " '네': 167,\n",
              " '~': 168,\n",
              " '품': 169,\n",
              " '꼭': 170,\n",
              " '큰': 171,\n",
              " '크': 172,\n",
              " '봐': 173,\n",
              " '번': 174,\n",
              " '*': 175,\n",
              " '만': 176,\n",
              " '두': 177,\n",
              " '무': 178,\n",
              " '였': 179,\n",
              " '본': 180,\n",
              " '질': 181,\n",
              " '대': 182,\n",
              " '생': 183,\n",
              " '각': 184,\n",
              " '니': 185,\n",
              " '햇': 186,\n",
              " '병': 187,\n",
              " '참': 188,\n",
              " '맛': 189,\n",
              " '찌': 190,\n",
              " '알': 191,\n",
              " '겠': 192,\n",
              " '정': 193,\n",
              " '소': 194,\n",
              " '동': 195,\n",
              " '천': 196,\n",
              " '녀': 197,\n",
              " '혼': 198,\n",
              " '감': 199,\n",
              " '독': 200,\n",
              " '임': 201,\n",
              " '면': 202,\n",
              " '건': 203,\n",
              " '눈': 204,\n",
              " '빠': 205,\n",
              " '옥': 206,\n",
              " '잠': 207,\n",
              " '들': 208,\n",
              " '난': 209,\n",
              " '처': 210,\n",
              " '누': 211,\n",
              " '엿': 212,\n",
              " '?': 213,\n",
              " '거': 214,\n",
              " '제': 215,\n",
              " '볍': 216,\n",
              " '풀': 217,\n",
              " '느': 218,\n",
              " '낌': 219,\n",
              " '래': 220,\n",
              " '좀': 221,\n",
              " '괜': 222,\n",
              " '찮': 223,\n",
              " '넘': 224,\n",
              " '즐': 225,\n",
              " '겁': 226,\n",
              " '볼': 227,\n",
              " '있': 228,\n",
              " '좋': 229,\n",
              " '욤': 230,\n",
              " '과': 231,\n",
              " '1': 232,\n",
              " '살': 233,\n",
              " '차': 234,\n",
              " ';': 235,\n",
              " '8': 236,\n",
              " '0': 237,\n",
              " '년': 238,\n",
              " '너': 239,\n",
              " '떨': 240,\n",
              " '외': 241,\n",
              " '박': 242,\n",
              " '치': 243,\n",
              " '재': 244,\n",
              " '밌': 245,\n",
              " '었': 246,\n",
              " '강': 247,\n",
              " '철': 248,\n",
              " '므': 249,\n",
              " '앟': 250,\n",
              " 'ㅎ': 251,\n",
              " 'ㅅ': 252,\n",
              " '흑': 253,\n",
              " '여': 254,\n",
              " '교': 255,\n",
              " '복': 256,\n",
              " '울': 257,\n",
              " '설': 258,\n",
              " '경': 259,\n",
              " '선': 260,\n",
              " '캐': 261,\n",
              " '릭': 262,\n",
              " '터': 263,\n",
              " '갈': 264,\n",
              " '피': 265,\n",
              " '잡': 266,\n",
              " '문': 267,\n",
              " '희': 268,\n",
              " '현': 269,\n",
              " '실': 270,\n",
              " '후': 271,\n",
              " '씹': 272,\n",
              " '노': 273,\n",
              " '답': 274,\n",
              " 'ㅇ': 275,\n",
              " '완': 276,\n",
              " '준': 277,\n",
              " 'ㅋ': 278,\n",
              " '별': 279,\n",
              " '긴': 280,\n",
              " '버': 281,\n",
              " '림': 282,\n",
              " '걍': 283,\n",
              " '낭': 284,\n",
              " '비': 285,\n",
              " '취': 286,\n",
              " '신': 287,\n",
              " '분': 288,\n",
              " '직': 289,\n",
              " '봤': 290,\n",
              " '플': 291,\n",
              " '레': 292,\n",
              " '눌': 293,\n",
              " '렀': 294,\n",
              " '4': 295,\n",
              " '맞': 296,\n",
              " '추': 297,\n",
              " '위': 298,\n",
              " '단': 299,\n",
              " '앜': 300,\n",
              " '또': 301,\n",
              " '!': 302,\n",
              " '적': 303,\n",
              " '겨': 304,\n",
              " '왕': 305,\n",
              " '줄': 306,\n",
              " '맥': 307,\n",
              " '티': 308,\n",
              " '팍': 309,\n",
              " '액': 310,\n",
              " '션': 311,\n",
              " '계': 312,\n",
              " '헐': 313,\n",
              " '토': 314,\n",
              " '끼': 315,\n",
              " '북': 316,\n",
              " '찍': 317,\n",
              " '쩐': 318,\n",
              " 'e': 319,\n",
              " 'b': 320,\n",
              " 's': 321,\n",
              " '루': 322,\n",
              " '배': 323,\n",
              " '잘': 324,\n",
              " '걸': 325,\n",
              " '웰': 326,\n",
              " '첫': 327,\n",
              " '축': 328,\n",
              " '학': 329,\n",
              " '론': 330,\n",
              " '닿': 331,\n",
              " '았': 332,\n",
              " '킵': 333,\n",
              " '꽤': 334,\n",
              " '빗': 335,\n",
              " '짐': 336,\n",
              " '케': 337,\n",
              " '웅': 338,\n",
              " '왔': 339,\n",
              " '꼬': 340,\n",
              " 'B': 341,\n",
              " '급': 342,\n",
              " '말': 343,\n",
              " 'C': 344,\n",
              " '-': 345,\n",
              " '승': 346,\n",
              " '웃': 347,\n",
              " '짜': 348,\n",
              " '떻': 349,\n",
              " 'ㅠ': 350,\n",
              " '든': 351,\n",
              " '총': 352,\n",
              " '체': 353,\n",
              " '척': 354,\n",
              " '디': 355,\n",
              " '털': 356,\n",
              " '봉': 357,\n",
              " '밸': 358,\n",
              " '류': 359,\n",
              " '낚': 360,\n",
              " '굉': 361,\n",
              " '히': 362,\n",
              " '틈': 363,\n",
              " '놀': 364,\n",
              " '뿐': 365,\n",
              " '코': 366,\n",
              " '믹': 367,\n",
              " '물': 368,\n",
              " '특': 369,\n",
              " '쟁': 370,\n",
              " '것': 371,\n",
              " '바': 372,\n",
              " '많': 373,\n",
              " '2': 374,\n",
              " '7': 375,\n",
              " '중': 376,\n",
              " '탑': 377,\n",
              " '3': 378,\n",
              " '령': 379,\n",
              " '테': 380,\n",
              " '런': 381,\n",
              " '죠': 382,\n",
              " '얼': 383,\n",
              " '멀': 384,\n",
              " '회': 385,\n",
              " '집': 386,\n",
              " '몇': 387,\n",
              " '남': 388,\n",
              " '권': 389,\n",
              " '징': 390,\n",
              " '둘': 391,\n",
              " '틀': 392,\n",
              " '깼': 393,\n",
              " '습': 394,\n",
              " 'O': 395,\n",
              " '판': 396,\n",
              " '타': 397,\n",
              " '족': 398,\n",
              " '켜': 399,\n",
              " '궁': 400,\n",
              " '궐': 401,\n",
              " '투': 402,\n",
              " '귀': 403,\n",
              " '심': 404,\n",
              " '냥': 405,\n",
              " '껴': 406,\n",
              " '찬': 407,\n",
              " '란': 408,\n",
              " '땜': 409,\n",
              " '약': 410,\n",
              " '슨': 411,\n",
              " '활': 412,\n",
              " '뜬': 413,\n",
              " '됨': 414,\n",
              " '윤': 415,\n",
              " '팅': 416,\n",
              " '얘': 417,\n",
              " '솔': 418,\n",
              " '엉': 419,\n",
              " '종': 420,\n",
              " '격': 421,\n",
              " '뭘': 422,\n",
              " '쿵': 423,\n",
              " '덕': 424,\n",
              " '순': 425,\n",
              " '칙': 426,\n",
              " '맨': 427,\n",
              " '즈': 428,\n",
              " '흠': 429,\n",
              " '날': 430,\n",
              " '몰': 431,\n",
              " '맘': 432,\n",
              " '졸': 433,\n",
              " '삭': 434,\n",
              " '겐': 435,\n",
              " '최': 436,\n",
              " '밖': 437,\n",
              " '존': 438,\n",
              " '온': 439,\n",
              " '갖': 440,\n",
              " '촬': 441,\n",
              " '형': 442,\n",
              " '절': 443,\n",
              " '규': 444,\n",
              " '카': 445,\n",
              " '속': 446,\n",
              " '썹': 447,\n",
              " '색': 448,\n",
              " '키': 449,\n",
              " '력': 450,\n",
              " '훈': 451,\n",
              " '엇': 452,\n",
              " '큐': 453,\n",
              " '뽑': 454,\n",
              " '졌': 455,\n",
              " '충': 456,\n",
              " '섞': 457,\n",
              " '딩': 458,\n",
              " '뒤': 459,\n",
              " '슴': 460,\n",
              " '목': 461,\n",
              " '멍': 462,\n",
              " '뜨': 463,\n",
              " '컥': 464,\n",
              " '웠': 465,\n",
              " '글': 466,\n",
              " '픈': 467,\n",
              " '팠': 468,\n",
              " '행': 469,\n",
              " '긋': 470,\n",
              " '변': 471,\n",
              " '묘': 472,\n",
              " '확': 473,\n",
              " '씨': 474,\n",
              " '샷': 475,\n",
              " '넣': 476,\n",
              " '결': 477,\n",
              " '른': 478,\n",
              " '망': 479,\n",
              " '골': 480,\n",
              " '효': 481,\n",
              " '향': 482,\n",
              " '죽': 483,\n",
              " '탕': 484,\n",
              " '함': 485,\n",
              " '료': 486,\n",
              " '편': 487,\n",
              " '춤': 488,\n",
              " '죄': 489,\n",
              " '며': 490,\n",
              " '달': 491,\n",
              " '름': 492,\n",
              " '표': 493,\n",
              " '월': 494,\n",
              " '삐': 495,\n",
              " '쭉': 496,\n",
              " '괴': 497,\n",
              " '놈': 498,\n",
              " 'D': 499,\n",
              " '훌': 500,\n",
              " '륭': 501,\n",
              " '받': 502,\n",
              " '궤': 503,\n",
              " 'ㄷ': 504,\n",
              " '브': 505,\n",
              " '뮤': 506,\n",
              " '큼': 507,\n",
              " '된': 508,\n",
              " '쓰': 509,\n",
              " '머': 510,\n",
              " '럴': 511,\n",
              " '뭐': 512,\n",
              " '섭': 513,\n",
              " '맹': 514,\n",
              " '능': 515,\n",
              " '쉬': 516,\n",
              " '갉': 517,\n",
              " '프': 518,\n",
              " '덥': 519,\n",
              " '빅': 520,\n",
              " '뱅': 521,\n",
              " '잃': 522,\n",
              " '택': 523,\n",
              " '새': 524,\n",
              " '빨': 525,\n",
              " '줘': 526,\n",
              " '댄': 527,\n",
              " '캔': 528,\n",
              " '헤': 529,\n",
              " '빛': 530,\n",
              " '펐': 531,\n",
              " '갔': 532,\n",
              " '옛': 533,\n",
              " '^': 534,\n",
              " '합': 535,\n",
              " '랫': 536,\n",
              " '띄': 537,\n",
              " '꿈': 538,\n",
              " '꾸': 539,\n",
              " '관': 540,\n",
              " '따': 541,\n",
              " '송': 542,\n",
              " '호': 543,\n",
              " '뷰': 544,\n",
              " '검': 545,\n",
              " '펑': 546,\n",
              " '침': 547,\n",
              " '객': 548,\n",
              " '높': 549,\n",
              " '깎': 550,\n",
              " '홧': 551,\n",
              " '풋': 552,\n",
              " '짱': 553,\n",
              " '굿': 554,\n",
              " '즘': 555,\n",
              " 'G': 556,\n",
              " '씬': 557,\n",
              " '펙': 558,\n",
              " '클': 559,\n",
              " '랜': 560,\n",
              " '샘': 561,\n",
              " '돋': 562,\n",
              " '찾': 563,\n",
              " '5': 564,\n",
              " '갸': 565,\n",
              " '륵': 566,\n",
              " '짓': 567,\n",
              " '탐': 568,\n",
              " '쿠': 569,\n",
              " '쫌': 570,\n",
              " '랄': 571,\n",
              " '근': 572,\n",
              " '락': 573,\n",
              " '팝': 574,\n",
              " '뎅': 575,\n",
              " '섹': 576,\n",
              " '컨': 577,\n",
              " '텐': 578,\n",
              " '츠': 579,\n",
              " '길': 580,\n",
              " '믿': 581,\n",
              " '채': 582,\n",
              " '뷔': 583,\n",
              " '초': 584,\n",
              " '범': 585,\n",
              " '렸': 586,\n",
              " 'a': 587,\n",
              " 'p': 588,\n",
              " '9': 589,\n",
              " '6': 590,\n",
              " ':': 591,\n",
              " 'ㅈ': 592,\n",
              " 'ㄴ': 593,\n",
              " '뿜': 594,\n",
              " '꽉': 595,\n",
              " '곤': 596,\n",
              " '득': 597,\n",
              " '렌': 598,\n",
              " '잊': 599,\n",
              " '혀': 600,\n",
              " '첼': 601,\n",
              " '듣': 602,\n",
              " '열': 603,\n",
              " '산': 604,\n",
              " '썬': 605,\n",
              " '삼': 606,\n",
              " '항': 607,\n",
              " '탈': 608,\n",
              " '횟': 609,\n",
              " '언': 610,\n",
              " '셨': 611,\n",
              " '업': 612,\n",
              " '럼': 613,\n",
              " '멘': 614,\n",
              " '횡': 615,\n",
              " '홍': 616,\n",
              " '콩': 617,\n",
              " '룡': 618,\n",
              " '필': 619,\n",
              " '원': 620,\n",
              " '셔': 621,\n",
              " '쩔': 622,\n",
              " '암': 623,\n",
              " '짖': 624,\n",
              " '트': 625,\n",
              " '윌': 626,\n",
              " '엄': 627,\n",
              " '팬': 628,\n",
              " '례': 629,\n",
              " '뻔': 630,\n",
              " '민': 631,\n",
              " \"'\": 632,\n",
              " '젋': 633,\n",
              " '싫': 634,\n",
              " '백': 635,\n",
              " '풍': 636,\n",
              " '등': 637,\n",
              " '멋': 638,\n",
              " '립': 639,\n",
              " '릴': 640,\n",
              " '쓸': 641,\n",
              " '뜻': 642,\n",
              " '뻐': 643,\n",
              " '손': 644,\n",
              " '태': 645,\n",
              " '렛': 646,\n",
              " '즉': 647,\n",
              " '(': 648,\n",
              " ')': 649,\n",
              " '둑': 650,\n",
              " '량': 651,\n",
              " '얻': 652,\n",
              " '폭': 653,\n",
              " '욕': 654,\n",
              " '첨': 655,\n",
              " '쎄': 656,\n",
              " '쯧': 657,\n",
              " '엾': 658,\n",
              " '즌': 659,\n",
              " '껏': 660,\n",
              " '낄': 661,\n",
              " 'ㄱ': 662,\n",
              " '험': 663,\n",
              " '팽': 664,\n",
              " '쪼': 665,\n",
              " '쌤': 666,\n",
              " '됩': 667,\n",
              " '청': 668,\n",
              " '펄': 669,\n",
              " '뛰': 670,\n",
              " '낫': 671,\n",
              " '둠': 672,\n",
              " '놓': 673,\n",
              " '꼈': 674,\n",
              " '젠': 675,\n",
              " '벽': 676,\n",
              " '잤': 677,\n",
              " '컵': 678,\n",
              " '탄': 679,\n",
              " '톰': 680,\n",
              " '<': 681,\n",
              " 'ㄹ': 682,\n",
              " '방': 683,\n",
              " '베': 684,\n",
              " '슈': 685,\n",
              " '퍼': 686,\n",
              " '랐': 687,\n",
              " '쟈': 688,\n",
              " '져': 689,\n",
              " '깊': 690,\n",
              " '갑': 691,\n",
              " '돼': 692,\n",
              " '쳤': 693,\n",
              " '썩': 694,\n",
              " '파': 695,\n",
              " 'r': 696,\n",
              " 'w': 697,\n",
              " '몸': 698,\n",
              " '쩜': 699,\n",
              " '컬': 700,\n",
              " '렁': 701,\n",
              " '착': 702,\n",
              " '늘': 703,\n",
              " '슷': 704,\n",
              " '통': 705,\n",
              " 'K': 706,\n",
              " '꽝': 707,\n",
              " '혁': 708,\n",
              " '혹': 709,\n",
              " '롭': 710,\n",
              " '뇌': 711,\n",
              " '딱': 712,\n",
              " '춘': 713,\n",
              " '패': 714,\n",
              " '칠': 715,\n",
              " '빵': 716,\n",
              " '겼': 717,\n",
              " 'f': 718,\n",
              " 'k': 719,\n",
              " '헨': 720,\n",
              " '헬': 721,\n",
              " '법': 722,\n",
              " '석': 723,\n",
              " '놔': 724,\n",
              " '닝': 725,\n",
              " '밀': 726,\n",
              " '빙': 727,\n",
              " '왠': 728,\n",
              " '쪽': 729,\n",
              " '견': 730,\n",
              " 'd': 731,\n",
              " 'v': 732,\n",
              " '블': 733,\n",
              " '옵': 734,\n",
              " '쇼': 735,\n",
              " '핑': 736,\n",
              " 'ㅂ': 737,\n",
              " '꺼': 738,\n",
              " '댓': 739,\n",
              " '뭉': 740,\n",
              " '붙': 741,\n",
              " '쁘': 742,\n",
              " '뉴': 743,\n",
              " 'S': 744,\n",
              " 'F': 745,\n",
              " '秀': 746,\n",
              " '作': 747,\n",
              " '\"': 748,\n",
              " '릿': 749,\n",
              " '힘': 750,\n",
              " '픽': 751,\n",
              " '닌': 752,\n",
              " '몬': 753,\n",
              " '찐': 754,\n",
              " '냄': 755,\n",
              " '증': 756,\n",
              " '몽': 757,\n",
              " '환': 758,\n",
              " '툰': 759,\n",
              " '%': 760,\n",
              " '굵': 761,\n",
              " '녕': 762,\n",
              " '뢰': 763,\n",
              " '옴': 764,\n",
              " '훼': 765,\n",
              " '휴': 766,\n",
              " '랍': 767,\n",
              " '폴': 768,\n",
              " '흘': 769,\n",
              " '께': 770,\n",
              " '삶': 771,\n",
              " '뿌': 772,\n",
              " '탔': 773,\n",
              " '쉽': 774,\n",
              " '팔': 775,\n",
              " '뽄': 776,\n",
              " '턴': 777,\n",
              " '앤': 778,\n",
              " '닥': 779,\n",
              " '염': 780,\n",
              " '꼴': 781,\n",
              " 'o': 782,\n",
              " '쓴': 783,\n",
              " '렵': 784,\n",
              " '룸': 785,\n",
              " '밋': 786,\n",
              " '콧': 787,\n",
              " '갇': 788,\n",
              " '힌': 789,\n",
              " '짧': 790,\n",
              " '닮': 791,\n",
              " '엘': 792,\n",
              " '쿤': 793,\n",
              " 'ㅜ': 794,\n",
              " '킨': 795,\n",
              " 'ㅁ': 796,\n",
              " '밤': 797,\n",
              " '봄': 798,\n",
              " '뚜': 799,\n",
              " '숙': 800,\n",
              " '센': 801,\n",
              " '봣': 802,\n",
              " '써': 803,\n",
              " '돌': 804,\n",
              " '룬': 805,\n",
              " '끌': 806,\n",
              " '획': 807,\n",
              " '층': 808,\n",
              " '첩': 809,\n",
              " '붕': 810,\n",
              " '줌': 811,\n",
              " '깜': 812,\n",
              " '밝': 813,\n",
              " '앞': 814,\n",
              " '응': 815,\n",
              " '균': 816,\n",
              " '멩': 817,\n",
              " '짝': 818,\n",
              " '퉁': 819,\n",
              " '푸': 820,\n",
              " 't': 821,\n",
              " '킬': 822,\n",
              " '꿀': 823,\n",
              " '웬': 824,\n",
              " '깨': 825,\n",
              " '엽': 826,\n",
              " 'A': 827,\n",
              " 'h': 828,\n",
              " 'T': 829,\n",
              " 'n': 830,\n",
              " 'y': 831,\n",
              " 'u': 832,\n",
              " 'i': 833,\n",
              " '떡': 834,\n",
              " '렬': 835,\n",
              " '줬': 836,\n",
              " '밣': 837,\n",
              " '뎁': 838,\n",
              " '창': 839,\n",
              " '짙': 840,\n",
              " '、': 841,\n",
              " '롬': 842,\n",
              " '。': 843,\n",
              " '！': 844,\n",
              " '[': 845,\n",
              " ']': 846,\n",
              " '압': 847,\n",
              " '빼': 848,\n",
              " '앗': 849,\n",
              " '뎀': 850,\n",
              " '널': 851,\n",
              " '핵': 852,\n",
              " '+': 853,\n",
              " '=': 854,\n",
              " 'c': 855,\n",
              " 'g': 856,\n",
              " '븐': 857,\n",
              " '갓': 858,\n",
              " '찝': 859,\n",
              " '딴': 860,\n",
              " 'ㅉ': 861,\n",
              " '앵': 862,\n",
              " '칼': 863,\n",
              " '똥': 864,\n",
              " '양': 865,\n",
              " '담': 866,\n",
              " '붉': 867,\n",
              " '쿨': 868,\n",
              " '략': 869,\n",
              " '커': 870,\n",
              " '>': 871,\n",
              " '셈': 872,\n",
              " '쉣': 873,\n",
              " '쩌': 874,\n",
              " '밥': 875,\n",
              " '펜': 876,\n",
              " '꾹': 877,\n",
              " '뒷': 878,\n",
              " '칭': 879,\n",
              " '콜': 880,\n",
              " '움': 881,\n",
              " '쯤': 882,\n",
              " '련': 883,\n",
              " '랭': 884,\n",
              " '젤': 885,\n",
              " '념': 886,\n",
              " '둔': 887,\n",
              " '헛': 888,\n",
              " '굳': 889,\n",
              " '힝': 890,\n",
              " '논': 891,\n",
              " '째': 892,\n",
              " 'm': 893,\n",
              " '씀': 894,\n",
              " '쩡': 895,\n",
              " '♥': 896,\n",
              " '빌': 897,\n",
              " 'X': 898,\n",
              " '났': 899,\n",
              " '흡': 900,\n",
              " '앨': 901,\n",
              " '왤': 902,\n",
              " '긁': 903,\n",
              " '끗': 904,\n",
              " '켄': 905,\n",
              " '겉': 906,\n",
              " '닙': 907,\n",
              " '뱉': 908,\n",
              " '곧': 909,\n",
              " '쉐': 910,\n",
              " '끠': 911,\n",
              " '쫀': 912,\n",
              " '찰': 913,\n",
              " '랬': 914,\n",
              " 'ㅛ': 915,\n",
              " '핏': 916,\n",
              " '싹': 917,\n",
              " '엎': 918,\n",
              " '램': 919,\n",
              " '톱': 920,\n",
              " '츈': 921,\n",
              " '곽': 922,\n",
              " '델': 923,\n",
              " '낸': 924,\n",
              " '쟤': 925,\n",
              " '똑': 926,\n",
              " '덤': 927,\n",
              " '얹': 928,\n",
              " '촌': 929,\n",
              " '멤': 930,\n",
              " '링': 931,\n",
              " '틴': 932,\n",
              " '솟': 933,\n",
              " 'l': 934,\n",
              " '율': 935,\n",
              " '텝': 936,\n",
              " '뺑': 937,\n",
              " '잇': 938,\n",
              " '빔': 939,\n",
              " '쏠': 940,\n",
              " '봅': 941,\n",
              " '잉': 942,\n",
              " '랏': 943,\n",
              " '땐': 944,\n",
              " '왓': 945,\n",
              " '쨋': 946,\n",
              " '깁': 947,\n",
              " '떤': 948,\n",
              " '낼': 949,\n",
              " '꽃': 950,\n",
              " '육': 951,\n",
              " '쵝': 952,\n",
              " '흐': 953,\n",
              " '틱': 954,\n",
              " '♡': 955,\n",
              " '쉴': 956,\n",
              " '탁': 957,\n",
              " '폰': 958,\n",
              " '갰': 959,\n",
              " '핼': 960,\n",
              " '댕': 961,\n",
              " '쏘': 962,\n",
              " 'ㅗ': 963,\n",
              " 'ㅕ': 964,\n",
              " '헉': 965,\n",
              " '겹': 966,\n",
              " '덱': 967,\n",
              " '똘': 968,\n",
              " '딥': 969,\n",
              " '숨': 970,\n",
              " '흫': 971,\n",
              " '욯': 972,\n",
              " '컴': 973,\n",
              " '렉': 974,\n",
              " '쁜': 975,\n",
              " '륜': 976,\n",
              " '엑': 977,\n",
              " '먼': 978,\n",
              " '묶': 979,\n",
              " 'E': 980,\n",
              " '땅': 981,\n",
              " '쭊': 982,\n",
              " '흙': 983,\n",
              " '됬': 984,\n",
              " '쨌': 985,\n",
              " '앉': 986,\n",
              " '춰': 987,\n",
              " '협': 988,\n",
              " '률': 989,\n",
              " '푹': 990,\n",
              " '썸': 991,\n",
              " '띵': 992,\n",
              " '곡': 993,\n",
              " '졋': 994,\n",
              " '됐': 995,\n",
              " '납': 996,\n",
              " '몫': 997,\n",
              " '냈': 998,\n",
              " '껄': 999,\n",
              " ...}"
            ]
          },
          "metadata": {
            "tags": []
          },
          "execution_count": 13
        }
      ]
    },
    {
      "cell_type": "markdown",
      "metadata": {
        "id": "Mu_DabQjQYFK"
      },
      "source": [
        "#### 2-2) vocab_dict를 이용해 자연어를 정수 인덱스로 바꾸기\n",
        "\n",
        "# 실습 MISSION\n",
        "> 빈칸을 채워봅시다!\n",
        "\n",
        "음절 단위로 쪼개진 문장들 (tokenized_sentences)을 인풋으로 받아 다음을 처리하는 함수를 만드시오\n",
        "\n",
        "* 사전에 없는 음절은 [OOV] 인덱스로 처리하기   \n",
        "* 사전에서 매핑되는 음절은 해당 인덱스로 바꾸기\n",
        "* max_seq_len만큼 문장 길이 맞추고 이보다 짧은 문장은 [PAD] 인덱스로 패딩하기\n"
      ]
    },
    {
      "cell_type": "code",
      "metadata": {
        "id": "iHI2uFCUojkw"
      },
      "source": [
        "def make_input_ids(tokenized_sentences, max_seq_len = 50):\n",
        "  \n",
        "  num_oov = 0 # OOV 발생 개수를 셈\n",
        "  result_input_ids = [] # result_input_ids : 정수 인덱스로 변환한 문장들의 리스트\n",
        "\n",
        "  for sentence in tokenized_sentences :\n",
        "      \"\"\" vocab_dict를 사용해 정수로 변환 \"\"\" \n",
        "      input_ids = []\n",
        "      for word in sentence:\n",
        "          if word not in vocab_dict:   ## 사전에 없는 음절은 OOV 처리\n",
        "              input_ids.append(vocab_dict['[OOV]']) \n",
        "              num_oov += 1\n",
        "          else:                       ## 사전에 있는 음절은?\n",
        "              input_ids.append(vocab_dict[word]) ##  vocab_dict 사전에서 토큰 찾아서 붙이기\n",
        "      \n",
        "      result_input_ids.append(input_ids)\n",
        "      \n",
        "  \"\"\" max_seq_len을 넘는 문장은 절단, 모자르는 것은 PADDING \"\"\"\n",
        "  result_input_ids = pad_sequences(result_input_ids, maxlen=max_seq_len, value=vocab_dict['[PAD]']) ##  padding 하기\n",
        "\n",
        "  return result_input_ids, num_oov\n"
      ],
      "execution_count": null,
      "outputs": []
    },
    {
      "cell_type": "code",
      "metadata": {
        "id": "Irm8oGg3ICWV",
        "outputId": "155186d3-5064-4b93-ca02-b9150020d670",
        "colab": {
          "base_uri": "https://localhost:8080/"
        }
      },
      "source": [
        "# train_sentences 처리\n",
        "train_input_ids, num_oov = make_input_ids(train_sentences)\n",
        "\n",
        "print(\"---- TRAIN ----\")\n",
        "print(\"... # OOVs     :\", num_oov)"
      ],
      "execution_count": null,
      "outputs": [
        {
          "output_type": "stream",
          "text": [
            "---- TRAIN ----\n",
            "... # OOVs     : 0\n"
          ],
          "name": "stdout"
        }
      ]
    },
    {
      "cell_type": "code",
      "metadata": {
        "id": "6yFz1GGuxhGY",
        "outputId": "ca607e48-219c-4758-c332-74e127d2ad0e",
        "colab": {
          "base_uri": "https://localhost:8080/"
        }
      },
      "source": [
        "# val_sentences 처리\n",
        "val_input_ids, num_oov = make_input_ids(val_sentences)\n",
        "\n",
        "print(\"---- VALIDATION ----\")\n",
        "print(\"... # OOVs     :\", num_oov)"
      ],
      "execution_count": null,
      "outputs": [
        {
          "output_type": "stream",
          "text": [
            "---- VALIDATION ----\n",
            "... # OOVs     : 99\n"
          ],
          "name": "stdout"
        }
      ]
    },
    {
      "cell_type": "code",
      "metadata": {
        "id": "MYs0YXRjIDg3",
        "outputId": "de91c89c-ca42-4ac1-bb97-5e99499e627d",
        "colab": {
          "base_uri": "https://localhost:8080/"
        }
      },
      "source": [
        "# test_sentences 처리\n",
        "test_input_ids, num_oov = make_input_ids(test_sentences)\n",
        "\n",
        "print(\"---- TEST ----\")\n",
        "print(\"... # OOVs     :\", num_oov)"
      ],
      "execution_count": null,
      "outputs": [
        {
          "output_type": "stream",
          "text": [
            "---- TEST ----\n",
            "... # OOVs     : 92\n"
          ],
          "name": "stdout"
        }
      ]
    },
    {
      "cell_type": "markdown",
      "metadata": {
        "id": "B7l98rF7c-Er"
      },
      "source": [
        "#### 2-3) 라벨 리스트를 np.array로 변환\n",
        "- TIP: tensorflow2.0에서는 numpy array를 인풋으로 받아들임"
      ]
    },
    {
      "cell_type": "code",
      "metadata": {
        "id": "cuFQFHbj3AQd"
      },
      "source": [
        "train_label_ids = np.array(train_label_ids)\n",
        "val_label_ids = np.array(val_label_ids)\n",
        "test_label_ids = np.array(test_label_ids)"
      ],
      "execution_count": null,
      "outputs": []
    },
    {
      "cell_type": "markdown",
      "metadata": {
        "id": "LhcHsul1IHxj"
      },
      "source": [
        "## Step3. 모델 만들기"
      ]
    },
    {
      "cell_type": "markdown",
      "metadata": {
        "id": "39iPCdwGTjzk"
      },
      "source": [
        "# 실습 MISSION\n",
        "> 아래 조건에 맞는 모델을 만드시오\n",
        " \n",
        "* embedding 차원은 150\n",
        "* LSTM hidden size는 100\n",
        "* Dense의 hidden size는 100, relu activation 사용\n",
        "* output Dense layer에서는 긍/부정 2개 카테고리를 분류하되 softmax 사용"
      ]
    },
    {
      "cell_type": "code",
      "metadata": {
        "id": "vcDr8GlZTqqV",
        "outputId": "e224eb84-585a-4303-ab7b-27fd741779f1",
        "colab": {
          "base_uri": "https://localhost:8080/"
        }
      },
      "source": [
        "vocab_size = len(vocab_dict) \n",
        "\n",
        "model = Sequential([\n",
        "            ####### MISSION 작성 ######\n",
        "            Embedding(vocab_size, 150),\n",
        "            LSTM(100),\n",
        "            Dense(100, activation='relu'),\n",
        "            Dense(2, activation='softmax')\n",
        "            ###########################\n",
        "])  \n",
        "\n",
        "model.summary()"
      ],
      "execution_count": null,
      "outputs": [
        {
          "output_type": "stream",
          "text": [
            "Model: \"sequential_1\"\n",
            "_________________________________________________________________\n",
            "Layer (type)                 Output Shape              Param #   \n",
            "=================================================================\n",
            "embedding_1 (Embedding)      (None, None, 150)         351450    \n",
            "_________________________________________________________________\n",
            "lstm_1 (LSTM)                (None, 100)               100400    \n",
            "_________________________________________________________________\n",
            "dense_2 (Dense)              (None, 100)               10100     \n",
            "_________________________________________________________________\n",
            "dense_3 (Dense)              (None, 2)                 202       \n",
            "=================================================================\n",
            "Total params: 462,152\n",
            "Trainable params: 462,152\n",
            "Non-trainable params: 0\n",
            "_________________________________________________________________\n"
          ],
          "name": "stdout"
        }
      ]
    },
    {
      "cell_type": "markdown",
      "metadata": {
        "id": "7GXrD_dTdTa_"
      },
      "source": [
        "## Step 4. 모델 훈련하기"
      ]
    },
    {
      "cell_type": "markdown",
      "metadata": {
        "id": "IPp_wZ2ddaMG"
      },
      "source": [
        "#### 4-1) <b>model.compile()</b>을 통해 loss, optimizer 지정"
      ]
    },
    {
      "cell_type": "code",
      "metadata": {
        "id": "V3nPJiGW1q92"
      },
      "source": [
        "model.compile(loss='categorical_crossentropy', optimizer='adam', metrics=['accuracy'])"
      ],
      "execution_count": null,
      "outputs": []
    },
    {
      "cell_type": "markdown",
      "metadata": {
        "id": "9wQWmz8Xdi89"
      },
      "source": [
        "#### 4-2) model.fit()을 통해 모델 훈련"
      ]
    },
    {
      "cell_type": "code",
      "metadata": {
        "id": "R6jyqi5cdjJB",
        "outputId": "8cffe5c6-f763-4c19-be4d-364bc8aed04c",
        "colab": {
          "base_uri": "https://localhost:8080/"
        }
      },
      "source": [
        "num_epochs = 10\n",
        "num_batch = 128\n",
        "history = model.fit(train_input_ids, train_label_ids, epochs=num_epochs, batch_size=num_batch, validation_data=(val_input_ids, val_label_ids), verbose=2) \n",
        "\n",
        "test_result = model.evaluate(test_input_ids, test_label_ids, verbose=2)"
      ],
      "execution_count": null,
      "outputs": [
        {
          "output_type": "stream",
          "text": [
            "Epoch 1/10\n",
            "391/391 - 4s - loss: 0.4913 - accuracy: 0.7593 - val_loss: 0.4420 - val_accuracy: 0.7953\n",
            "Epoch 2/10\n",
            "391/391 - 4s - loss: 0.4182 - accuracy: 0.8063 - val_loss: 0.4203 - val_accuracy: 0.8019\n",
            "Epoch 3/10\n",
            "391/391 - 4s - loss: 0.3861 - accuracy: 0.8250 - val_loss: 0.4107 - val_accuracy: 0.8134\n",
            "Epoch 4/10\n",
            "391/391 - 4s - loss: 0.3625 - accuracy: 0.8378 - val_loss: 0.4110 - val_accuracy: 0.8100\n",
            "Epoch 5/10\n",
            "391/391 - 4s - loss: 0.3425 - accuracy: 0.8486 - val_loss: 0.4055 - val_accuracy: 0.8195\n",
            "Epoch 6/10\n",
            "391/391 - 4s - loss: 0.3251 - accuracy: 0.8581 - val_loss: 0.4038 - val_accuracy: 0.8186\n",
            "Epoch 7/10\n",
            "391/391 - 4s - loss: 0.3099 - accuracy: 0.8661 - val_loss: 0.4170 - val_accuracy: 0.8161\n",
            "Epoch 8/10\n",
            "391/391 - 4s - loss: 0.2931 - accuracy: 0.8739 - val_loss: 0.4255 - val_accuracy: 0.8143\n",
            "Epoch 9/10\n",
            "391/391 - 4s - loss: 0.2771 - accuracy: 0.8815 - val_loss: 0.4457 - val_accuracy: 0.8162\n",
            "Epoch 10/10\n",
            "391/391 - 4s - loss: 0.2635 - accuracy: 0.8890 - val_loss: 0.4475 - val_accuracy: 0.8150\n",
            "313/313 - 1s - loss: 0.4448 - accuracy: 0.8133\n"
          ],
          "name": "stdout"
        }
      ]
    },
    {
      "cell_type": "markdown",
      "metadata": {
        "id": "vpO7-KgJxFZI"
      },
      "source": [
        "<font color='purple'>🚴‍♀️<i> while training...</i></font>   \n",
        "<br>\n",
        "<u> keras RNN API 확인하기</u>\n",
        "- https://www.tensorflow.org/guide/keras/rnn\n",
        "- 예) \n",
        "  - LSTM의 모든 timestep의 output을 받아오려면 \n",
        "  - lstm = tf.keras.layers.LSTM(hidden_dim, return_sequences=True)로 설정"
      ]
    },
    {
      "cell_type": "markdown",
      "metadata": {
        "id": "42MnPFs9O3Fr"
      },
      "source": [
        "#### 4-3) 훈련 결과 진단하기\n",
        "<font color=\"red\">QUIZ :   \n",
        "a. 현재 모델에 문제점이 있나요?   \n",
        "b. 문제가 나타나고 있다면 이에 대한 해결 방안을 제시해 보세요. \n",
        "</font>"
      ]
    },
    {
      "cell_type": "code",
      "metadata": {
        "id": "rtaGxpJa4SmM",
        "outputId": "d3070736-1697-4a86-c147-9ffad5d621bb",
        "colab": {
          "base_uri": "https://localhost:8080/",
          "height": 543
        }
      },
      "source": [
        "import matplotlib.pyplot as plt\n",
        "\n",
        "def plot_graphs(history, string):\n",
        "  plt.plot(history.history[string])\n",
        "  plt.plot(history.history['val_'+string])\n",
        "  plt.xlabel(\"Epochs\")\n",
        "  plt.ylabel(string)\n",
        "  plt.legend([string, 'val_'+string])\n",
        "  plt.show()\n",
        "  \n",
        "plot_graphs(history, \"accuracy\")\n",
        "plot_graphs(history, \"loss\")"
      ],
      "execution_count": null,
      "outputs": [
        {
          "output_type": "display_data",
          "data": {
            "image/png": "[encoded data removed]",
            "text/plain": [
              "<Figure size 432x288 with 1 Axes>"
            ]
          },
          "metadata": {
            "tags": [],
            "needs_background": "light"
          }
        },
        {
          "output_type": "display_data",
          "data": {
            "image/png": "[encoded data removed]",
            "text/plain": [
              "<Figure size 432x288 with 1 Axes>"
            ]
          },
          "metadata": {
            "tags": [],
            "needs_background": "light"
          }
        }
      ]
    },
    {
      "cell_type": "markdown",
      "metadata": {
        "id": "13AeKZe8JdIn"
      },
      "source": [
        "## Step 5. Inference 실행하기"
      ]
    },
    {
      "cell_type": "code",
      "metadata": {
        "id": "SxopYLQtIkw1"
      },
      "source": [
        "\"\"\" 훈련된 모델로 다시 예측해보기 \"\"\"\n",
        "\n",
        "def inference(mymodel, sentence):\n",
        "  # 1. tokenizer로 문장 파싱\n",
        "  words = tokenize(sentence)\n",
        "  input_id = []\n",
        "\n",
        "  # 2. vocab_dict를 이용해 인덱스로 변환\n",
        "  for word in words:\n",
        "    if word in vocab_dict: input_id.append(vocab_dict[word])\n",
        "    else: input_id.append(vocab_dict[\"[OOV]\"])\n",
        "  \n",
        "  # 단일 문장 추론이기 때문에 패딩할 필요가 없음 \n",
        "  score = mymodel.predict(np.array([input_id])) \n",
        "\n",
        "  print(\"** INPUT:\", sentence)\n",
        "  print(\"   -> 부정: {:.2f} / 긍정: {:.2f}\".format(score[0][0],score[0][1]))"
      ],
      "execution_count": null,
      "outputs": []
    },
    {
      "cell_type": "code",
      "metadata": {
        "id": "nm172c7-YmBw",
        "outputId": "fd4bf282-0292-4fe2-882d-a9dc316f9f27",
        "colab": {
          "base_uri": "https://localhost:8080/"
        }
      },
      "source": [
        "sentence1 = \"시간 가는 줄 알고 봤습니다.\"\n",
        "sentence2 = \"안보면 후회ㅠㅠ...\"\n",
        "inference(model, sentence1)\n",
        "inference(model, sentence2)"
      ],
      "execution_count": null,
      "outputs": [
        {
          "output_type": "stream",
          "text": [
            "** INPUT: 시간 가는 줄 알고 봤습니다.\n",
            "   -> 부정: 0.17 / 긍정: 0.83\n",
            "** INPUT: 안보면 후회ㅠㅠ...\n",
            "   -> 부정: 0.45 / 긍정: 0.55\n"
          ],
          "name": "stdout"
        }
      ]
    },
    {
      "cell_type": "code",
      "metadata": {
        "id": "mi_fIiVC4k8g",
        "outputId": "02341107-62c0-4ece-f334-f4b5bd7dfecb",
        "colab": {
          "base_uri": "https://localhost:8080/"
        }
      },
      "source": [
        "# 원하는 문장에 대해 추론해 보세요\n",
        "inference(model, \"이런 망작을 나 혼자만 보기엔 아깝지\")\n",
        "inference(model, \"이런 꿀잼을 나 혼자만 보기엔 아깝지\")\n",
        "inference(model, \"꿀잠 잤습니다\")"
      ],
      "execution_count": null,
      "outputs": [
        {
          "output_type": "stream",
          "text": [
            "** INPUT: 이런 망작을 나 혼자만 보기엔 아깝지\n",
            "   -> 부정: 1.00 / 긍정: 0.00\n",
            "** INPUT: 이런 꿀잼을 나 혼자만 보기엔 아깝지\n",
            "   -> 부정: 0.67 / 긍정: 0.33\n",
            "** INPUT: 꿀잠 잤습니다\n",
            "   -> 부정: 0.94 / 긍정: 0.06\n"
          ],
          "name": "stdout"
        }
      ]
    },
    {
      "cell_type": "markdown",
      "metadata": {
        "id": "I_NVAg9E7F3c"
      },
      "source": [
        "# # 3. 나만의 모델 만들어보기 "
      ]
    },
    {
      "cell_type": "markdown",
      "metadata": {
        "id": "cMo6UCv78uGz"
      },
      "source": [
        "# 실습 MISSION\n",
        ">  LSTM, Dense layer 등을 자유롭게 활용해서 자신만의 모델을 만들고 \n",
        "이후 TEST 데이터에 대해 최종 성능을 비교해보세요\n",
        "</font>\n",
        " "
      ]
    },
    {
      "cell_type": "code",
      "metadata": {
        "id": "-EJxGxXl4MJF",
        "cellView": "both",
        "outputId": "c33993f8-985f-4afd-e931-0c342f425783",
        "colab": {
          "base_uri": "https://localhost:8080/"
        }
      },
      "source": [
        "tf.keras.backend.clear_session()\n",
        "from tensorflow.keras.layers import Dropout\n",
        "                     \n",
        "# 1. 모델 구현하기\n",
        "model2 = tf.keras.Sequential([\n",
        "      # MISSION 작성 #\n",
        "      Embedding(vocab_size, 300),\n",
        "      LSTM(200),\n",
        "      Dropout(rate=0.3),\n",
        "      Dense(200, activation='relu'),\n",
        "      Dropout(rate=0.3),\n",
        "      Dense(100, activation='softplus'),\n",
        "      Dropout(rate=0.3),\n",
        "      Dense(2, activation='sigmoid')\n",
        "      ################                 \n",
        "]) \n",
        "# 2. optimizer, loss 선택하기\n",
        "# sgd_optimizer = tf.keras.optimizers.SGD() \n",
        "#model2.compile(loss='categorical_crossentropy', optimizer='adam', metrics=['accuracy'])\n",
        "model2.compile(loss='mean_squared_error', optimizer='adam', metrics=['accuracy'])\n",
        "\n",
        "# 3. 모델 훈련하기 (원하는대로 조정해보세요!)\n",
        "num_epochs = 25\n",
        "num_batch = 256\n",
        "\n",
        "early_stop = tf.keras.callbacks.EarlyStopping(monitor='val_accuracy', patience=8)\n",
        "history = model2.fit(train_input_ids, train_label_ids, epochs=num_epochs, batch_size=num_batch, validation_data=(val_input_ids, val_label_ids), callbacks=[early_stop], verbose=2)"
      ],
      "execution_count": 97,
      "outputs": [
        {
          "output_type": "stream",
          "text": [
            "Epoch 1/25\n",
            "196/196 - 4s - loss: 0.1846 - accuracy: 0.7272 - val_loss: 0.1457 - val_accuracy: 0.7924\n",
            "Epoch 2/25\n",
            "196/196 - 4s - loss: 0.1437 - accuracy: 0.7989 - val_loss: 0.1434 - val_accuracy: 0.7932\n",
            "Epoch 3/25\n",
            "196/196 - 4s - loss: 0.1284 - accuracy: 0.8214 - val_loss: 0.1338 - val_accuracy: 0.8107\n",
            "Epoch 4/25\n",
            "196/196 - 4s - loss: 0.1196 - accuracy: 0.8347 - val_loss: 0.1317 - val_accuracy: 0.8159\n",
            "Epoch 5/25\n",
            "196/196 - 4s - loss: 0.1125 - accuracy: 0.8461 - val_loss: 0.1319 - val_accuracy: 0.8155\n",
            "Epoch 6/25\n",
            "196/196 - 4s - loss: 0.1079 - accuracy: 0.8529 - val_loss: 0.1295 - val_accuracy: 0.8154\n",
            "Epoch 7/25\n",
            "196/196 - 4s - loss: 0.1032 - accuracy: 0.8620 - val_loss: 0.1320 - val_accuracy: 0.8155\n",
            "Epoch 8/25\n",
            "196/196 - 4s - loss: 0.0976 - accuracy: 0.8687 - val_loss: 0.1326 - val_accuracy: 0.8175\n",
            "Epoch 9/25\n",
            "196/196 - 4s - loss: 0.0935 - accuracy: 0.8753 - val_loss: 0.1378 - val_accuracy: 0.8154\n",
            "Epoch 10/25\n",
            "196/196 - 4s - loss: 0.0891 - accuracy: 0.8823 - val_loss: 0.1337 - val_accuracy: 0.8145\n",
            "Epoch 11/25\n",
            "196/196 - 4s - loss: 0.0842 - accuracy: 0.8905 - val_loss: 0.1369 - val_accuracy: 0.8162\n",
            "Epoch 12/25\n",
            "196/196 - 4s - loss: 0.0799 - accuracy: 0.8975 - val_loss: 0.1342 - val_accuracy: 0.8208\n",
            "Epoch 13/25\n",
            "196/196 - 4s - loss: 0.0760 - accuracy: 0.9036 - val_loss: 0.1422 - val_accuracy: 0.8134\n",
            "Epoch 14/25\n",
            "196/196 - 4s - loss: 0.0721 - accuracy: 0.9087 - val_loss: 0.1392 - val_accuracy: 0.8194\n",
            "Epoch 15/25\n",
            "196/196 - 4s - loss: 0.0679 - accuracy: 0.9155 - val_loss: 0.1417 - val_accuracy: 0.8159\n",
            "Epoch 16/25\n",
            "196/196 - 4s - loss: 0.0635 - accuracy: 0.9227 - val_loss: 0.1470 - val_accuracy: 0.8179\n",
            "Epoch 17/25\n",
            "196/196 - 4s - loss: 0.0623 - accuracy: 0.9231 - val_loss: 0.1452 - val_accuracy: 0.8161\n",
            "Epoch 18/25\n",
            "196/196 - 4s - loss: 0.0572 - accuracy: 0.9309 - val_loss: 0.1525 - val_accuracy: 0.8107\n",
            "Epoch 19/25\n",
            "196/196 - 4s - loss: 0.0546 - accuracy: 0.9345 - val_loss: 0.1537 - val_accuracy: 0.8126\n",
            "Epoch 20/25\n",
            "196/196 - 4s - loss: 0.0536 - accuracy: 0.9358 - val_loss: 0.1514 - val_accuracy: 0.8144\n"
          ],
          "name": "stdout"
        }
      ]
    },
    {
      "cell_type": "code",
      "metadata": {
        "id": "JhibjqAt69vc",
        "outputId": "c94641e9-85de-419b-95cd-3b13f5013c6a",
        "colab": {
          "base_uri": "https://localhost:8080/",
          "height": 541
        }
      },
      "source": [
        "# 4. 모델 진단하기\n",
        "\n",
        "plot_graphs(history, \"accuracy\")\n",
        "plot_graphs(history, \"loss\")"
      ],
      "execution_count": 90,
      "outputs": [
        {
          "output_type": "display_data",
          "data": {
            "image/png": "[encoded data removed]",
            "text/plain": [
              "<Figure size 432x288 with 1 Axes>"
            ]
          },
          "metadata": {
            "tags": [],
            "needs_background": "light"
          }
        },
        {
          "output_type": "display_data",
          "data": {
            "image/png": "[encoded data removed]",
            "text/plain": [
              "<Figure size 432x288 with 1 Axes>"
            ]
          },
          "metadata": {
            "tags": [],
            "needs_background": "light"
          }
        }
      ]
    },
    {
      "cell_type": "code",
      "metadata": {
        "id": "zrmDzbNJ7DfC",
        "outputId": "f67542af-da02-4925-80a3-6ff44bc4a07e",
        "colab": {
          "base_uri": "https://localhost:8080/"
        }
      },
      "source": [
        "# 5. 테스트 데이터에 대해 평가하기\n",
        "\n",
        "model2.evaluate(test_input_ids, test_label_ids, verbose=2)"
      ],
      "execution_count": 98,
      "outputs": [
        {
          "output_type": "stream",
          "text": [
            "313/313 - 1s - loss: 0.1533 - accuracy: 0.8142\n"
          ],
          "name": "stdout"
        },
        {
          "output_type": "execute_result",
          "data": {
            "text/plain": [
              "[0.15330596268177032, 0.8141999840736389]"
            ]
          },
          "metadata": {
            "tags": []
          },
          "execution_count": 98
        }
      ]
    },
    {
      "cell_type": "code",
      "metadata": {
        "id": "D2HnsxdPgRUf",
        "outputId": "3652993b-b1b6-44ef-baca-c6c548fb4e4c",
        "colab": {
          "base_uri": "https://localhost:8080/"
        }
      },
      "source": [
        "# 샘플 예제에 대해 추론해 보세요 \n",
        "\n",
        "inference(model2, \"물이 반도 안남았다\")  #부정\n",
        "inference(model2, \"물이 반이나 남았다\")  #긍정\n",
        "inference(model2, \"죄송하지만 혹시 실례가 안된다면 꺼져주실수 있으신지ㅎㅎ?\") #부정\n",
        "inference(model2, \"잘하는 짓이다\") #부정\n",
        "inference(model2, \"가게 외관은 구린데 맛은 ㅇㅈ\") #긍정\n",
        "inference(model2, \"ㄷㄷ 간만에 갓띵작 ㄷㄷㄷ\") #긍정\n",
        "inference(model2, \"주인공 커여워 ㅠㅠ\") #긍정\n",
        "inference(model2, \"OTL\") #부정"
      ],
      "execution_count": 99,
      "outputs": [
        {
          "output_type": "stream",
          "text": [
            "WARNING:tensorflow:5 out of the last 14 calls to <function Model.make_predict_function.<locals>.predict_function at 0x7f03495631e0> triggered tf.function retracing. Tracing is expensive and the excessive number of tracings could be due to (1) creating @tf.function repeatedly in a loop, (2) passing tensors with different shapes, (3) passing Python objects instead of tensors. For (1), please define your @tf.function outside of the loop. For (2), @tf.function has experimental_relax_shapes=True option that relaxes argument shapes that can avoid unnecessary retracing. For (3), please refer to https://www.tensorflow.org/tutorials/customization/performance#python_or_tensor_args and https://www.tensorflow.org/api_docs/python/tf/function for  more details.\n",
            "** INPUT: 물이 반도 안남았다\n",
            "   -> 부정: 0.96 / 긍정: 0.04\n",
            "** INPUT: 물이 반이나 남았다\n",
            "   -> 부정: 0.43 / 긍정: 0.57\n",
            "WARNING:tensorflow:5 out of the last 11 calls to <function Model.make_predict_function.<locals>.predict_function at 0x7f03495631e0> triggered tf.function retracing. Tracing is expensive and the excessive number of tracings could be due to (1) creating @tf.function repeatedly in a loop, (2) passing tensors with different shapes, (3) passing Python objects instead of tensors. For (1), please define your @tf.function outside of the loop. For (2), @tf.function has experimental_relax_shapes=True option that relaxes argument shapes that can avoid unnecessary retracing. For (3), please refer to https://www.tensorflow.org/tutorials/customization/performance#python_or_tensor_args and https://www.tensorflow.org/api_docs/python/tf/function for  more details.\n",
            "** INPUT: 죄송하지만 혹시 실례가 안된다면 꺼져주실수 있으신지ㅎㅎ?\n",
            "   -> 부정: 0.12 / 긍정: 0.88\n",
            "WARNING:tensorflow:6 out of the last 12 calls to <function Model.make_predict_function.<locals>.predict_function at 0x7f03495631e0> triggered tf.function retracing. Tracing is expensive and the excessive number of tracings could be due to (1) creating @tf.function repeatedly in a loop, (2) passing tensors with different shapes, (3) passing Python objects instead of tensors. For (1), please define your @tf.function outside of the loop. For (2), @tf.function has experimental_relax_shapes=True option that relaxes argument shapes that can avoid unnecessary retracing. For (3), please refer to https://www.tensorflow.org/tutorials/customization/performance#python_or_tensor_args and https://www.tensorflow.org/api_docs/python/tf/function for  more details.\n",
            "** INPUT: 잘하는 짓이다\n",
            "   -> 부정: 0.96 / 긍정: 0.04\n",
            "** INPUT: 가게 외관은 구린데 맛은 ㅇㅈ\n",
            "   -> 부정: 0.92 / 긍정: 0.08\n",
            "** INPUT: ㄷㄷ 간만에 갓띵작 ㄷㄷㄷ\n",
            "   -> 부정: 0.05 / 긍정: 0.96\n",
            "** INPUT: 주인공 커여워 ㅠㅠ\n",
            "   -> 부정: 0.08 / 긍정: 0.92\n",
            "** INPUT: OTL\n",
            "   -> 부정: 0.71 / 긍정: 0.29\n"
          ],
          "name": "stdout"
        }
      ]
    },
    {
      "cell_type": "code",
      "metadata": {
        "id": "1Y_E831p2KJ8"
      },
      "source": [
        ""
      ],
      "execution_count": null,
      "outputs": []
    }
  ]
}