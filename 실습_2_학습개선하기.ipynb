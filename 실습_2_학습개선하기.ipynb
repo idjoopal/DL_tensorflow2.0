{
  "nbformat": 4,
  "nbformat_minor": 0,
  "metadata": {
    "colab": {
      "name": "실습_2_학습개선하기.ipynb",
      "provenance": [],
      "collapsed_sections": [],
      "toc_visible": true,
      "include_colab_link": true
    },
    "kernelspec": {
      "name": "python3",
      "display_name": "Python 3"
    },
    "accelerator": "GPU"
  },
  "cells": [
    {
      "cell_type": "markdown",
      "metadata": {
        "id": "view-in-github",
        "colab_type": "text"
      },
      "source": [
        "<a href=\"https://colab.research.google.com/github/idjoopal/DL_tensorflow2.0/blob/main/%EC%8B%A4%EC%8A%B5_2_%ED%95%99%EC%8A%B5%EA%B0%9C%EC%84%A0%ED%95%98%EA%B8%B0.ipynb\" target=\"_parent\"><img src=\"https://colab.research.google.com/assets/colab-badge.svg\" alt=\"Open In Colab\"/></a>"
      ]
    },
    {
      "cell_type": "markdown",
      "metadata": {
        "id": "2v7Ohf_TBgGH"
      },
      "source": [
        "#Activation / Loss / Optimizer"
      ]
    },
    {
      "cell_type": "code",
      "metadata": {
        "id": "VHSOO82gLgzc"
      },
      "source": [
        "import tensorflow as tf \n",
        "from tensorflow.keras.layers import Dense, Flatten \n",
        "from tensorflow.keras.models import Sequential"
      ],
      "execution_count": 1,
      "outputs": []
    },
    {
      "cell_type": "markdown",
      "metadata": {
        "id": "uqiuIEVsCVng"
      },
      "source": [
        "# 기존 신경망 아키텍처에 조건 바꿔 적용해보기\n",
        "\n",
        "[tf.keras.activations docs](https://www.tensorflow.org/api_docs/python/tf/keras/activations)\n",
        "\n",
        "[tf.keras.losses docs](https://www.tensorflow.org/api_docs/python/tf/keras/losses)\n",
        "\n",
        "[tf.keras.optimizer docs](https://www.tensorflow.org/api_docs/python/tf/keras/optimizers)"
      ]
    },
    {
      "cell_type": "code",
      "metadata": {
        "id": "USG4Wm4lCPzE",
        "outputId": "747be875-c02e-4b59-f31e-f808c0fa9c33",
        "colab": {
          "base_uri": "https://localhost:8080/"
        }
      },
      "source": [
        "# data load\n",
        "mnist = tf.keras.datasets.mnist\n",
        "(x_train, y_train), (x_test, y_test) = mnist.load_data()\n",
        "\n",
        "# 0~255의 픽셀 값을 0~1로 조정\n",
        "x_train, x_test = x_train / 255.0, x_test / 255.0\n",
        "\n",
        "# shape 조정\n",
        "x_train = x_train.reshape(60000,28,28,1)\n",
        "x_test = x_test.reshape(10000,28,28,1)\n",
        "\n",
        "# 정답 label을 길이10 벡터화\n",
        "y_train = tf.one_hot(y_train, depth=10)\n",
        "y_test = tf.one_hot(y_test, depth=10)\n",
        "\n",
        "# validation set 별도 구분\n",
        "x_train, x_val = x_train[:50000], x_train[50000:]\n",
        "y_train, y_val = y_train[:50000], y_train[50000:]"
      ],
      "execution_count": 2,
      "outputs": [
        {
          "output_type": "stream",
          "text": [
            "Downloading data from https://storage.googleapis.com/tensorflow/tf-keras-datasets/mnist.npz\n",
            "11493376/11490434 [==============================] - 0s 0us/step\n"
          ],
          "name": "stdout"
        }
      ]
    },
    {
      "cell_type": "markdown",
      "metadata": {
        "id": "XsFWfCqKCbdc"
      },
      "source": [
        "모델 구현하기"
      ]
    },
    {
      "cell_type": "code",
      "metadata": {
        "id": "rMqQHhsECPrb",
        "outputId": "6403b802-66f8-4a76-cccf-16084cd6fe3a",
        "colab": {
          "base_uri": "https://localhost:8080/"
        }
      },
      "source": [
        "model = tf.keras.models.Sequential([\n",
        "  tf.keras.layers.Flatten(input_shape=(28, 28, 1)),\n",
        "  tf.keras.layers.Dense(50, activation='sigmoid'),\n",
        "  tf.keras.layers.Dense(10, activation='softmax')\n",
        "])\n",
        "\n",
        "# 커스터마이징을 위해선 기존 방식 이용, 기본 기능 활용하려면 string으로 이름을 입력\n",
        "\n",
        "# 커스터마이징\n",
        "# sgd_optimizer = tf.keras.optimizers.SGD(learning_rate=1.0) \n",
        "# mse_loss = tf.keras.losses.MeanSquaredError()\n",
        "# model.compile(optimizer=sgd_optimizer, loss=mse_loss, metrics=['accuracy'])  \n",
        "\n",
        "# 기본 기능 활용\n",
        "model.compile(optimizer='sgd',loss='mean_squared_error',metrics=['accuracy'])\n",
        "\n",
        "history = model.fit(x_train, y_train, epochs=10, validation_data=(x_val, y_val), verbose=2)\n",
        "result = model.evaluate(x_test,  y_test, verbose=2)"
      ],
      "execution_count": 3,
      "outputs": [
        {
          "output_type": "stream",
          "text": [
            "Epoch 1/10\n",
            "1563/1563 - 3s - loss: 0.0931 - accuracy: 0.1433 - val_loss: 0.0911 - val_accuracy: 0.1603\n",
            "Epoch 2/10\n",
            "1563/1563 - 3s - loss: 0.0901 - accuracy: 0.1663 - val_loss: 0.0893 - val_accuracy: 0.1873\n",
            "Epoch 3/10\n",
            "1563/1563 - 3s - loss: 0.0887 - accuracy: 0.2188 - val_loss: 0.0881 - val_accuracy: 0.2576\n",
            "Epoch 4/10\n",
            "1563/1563 - 3s - loss: 0.0877 - accuracy: 0.2893 - val_loss: 0.0871 - val_accuracy: 0.3431\n",
            "Epoch 5/10\n",
            "1563/1563 - 3s - loss: 0.0867 - accuracy: 0.3520 - val_loss: 0.0861 - val_accuracy: 0.3848\n",
            "Epoch 6/10\n",
            "1563/1563 - 3s - loss: 0.0858 - accuracy: 0.3828 - val_loss: 0.0851 - val_accuracy: 0.4093\n",
            "Epoch 7/10\n",
            "1563/1563 - 3s - loss: 0.0848 - accuracy: 0.4060 - val_loss: 0.0840 - val_accuracy: 0.4254\n",
            "Epoch 8/10\n",
            "1563/1563 - 3s - loss: 0.0837 - accuracy: 0.4239 - val_loss: 0.0829 - val_accuracy: 0.4387\n",
            "Epoch 9/10\n",
            "1563/1563 - 3s - loss: 0.0825 - accuracy: 0.4385 - val_loss: 0.0816 - val_accuracy: 0.4470\n",
            "Epoch 10/10\n",
            "1563/1563 - 3s - loss: 0.0813 - accuracy: 0.4448 - val_loss: 0.0803 - val_accuracy: 0.4556\n",
            "313/313 - 0s - loss: 0.0804 - accuracy: 0.4532\n"
          ],
          "name": "stdout"
        }
      ]
    },
    {
      "cell_type": "markdown",
      "metadata": {
        "id": "dI-GrVm-F09C"
      },
      "source": [
        "# 실습 MISSION\n",
        "위에서 작성했던 코드를 조건에 맞게 변경해보자!\n",
        "\n",
        "* activation을 relu로 변경\n",
        "* loss를 cross-entropy로 변경 ('categorical_crossentropy', 상기 링크 참고)\n",
        "* optimizer를 adam으로 변경"
      ]
    },
    {
      "cell_type": "code",
      "metadata": {
        "id": "4J9nrHuQIaE5",
        "outputId": "f5d2602e-7d86-43c7-aeb6-910ce35d6749",
        "colab": {
          "base_uri": "https://localhost:8080/"
        }
      },
      "source": [
        "# MISSION을 작성하세요\n",
        "model = tf.keras.models.Sequential([\n",
        "  tf.keras.layers.Flatten(input_shape=(28, 28, 1)),\n",
        "  tf.keras.layers.Dense(50, activation='relu'),\n",
        "  tf.keras.layers.Dense(10, activation='softmax')\n",
        "])\n",
        "\n",
        "# 커스터마이징을 위해선 기존 방식 이용, 기본 기능 활용하려면 string으로 이름을 입력\n",
        "\n",
        "# 커스터마이징\n",
        "# sgd_optimizer = tf.keras.optimizers.SGD(learning_rate=1.0) \n",
        "# mse_loss = tf.keras.losses.MeanSquaredError()\n",
        "# model.compile(optimizer=sgd_optimizer, loss=mse_loss, metrics=['accuracy'])  \n",
        "\n",
        "# 기본 기능 활용\n",
        "model.compile(optimizer='adam',loss='categorical_crossentropy',metrics=['accuracy'])\n",
        "\n",
        "history = model.fit(x_train, y_train, epochs=10, validation_data=(x_val, y_val), verbose=2)\n",
        "result = model.evaluate(x_test,  y_test, verbose=2)"
      ],
      "execution_count": 4,
      "outputs": [
        {
          "output_type": "stream",
          "text": [
            "Epoch 1/10\n",
            "1563/1563 - 4s - loss: 0.3455 - accuracy: 0.9038 - val_loss: 0.1900 - val_accuracy: 0.9464\n",
            "Epoch 2/10\n",
            "1563/1563 - 3s - loss: 0.1724 - accuracy: 0.9503 - val_loss: 0.1458 - val_accuracy: 0.9618\n",
            "Epoch 3/10\n",
            "1563/1563 - 3s - loss: 0.1314 - accuracy: 0.9619 - val_loss: 0.1243 - val_accuracy: 0.9651\n",
            "Epoch 4/10\n",
            "1563/1563 - 3s - loss: 0.1062 - accuracy: 0.9681 - val_loss: 0.1160 - val_accuracy: 0.9669\n",
            "Epoch 5/10\n",
            "1563/1563 - 3s - loss: 0.0869 - accuracy: 0.9745 - val_loss: 0.1075 - val_accuracy: 0.9684\n",
            "Epoch 6/10\n",
            "1563/1563 - 3s - loss: 0.0747 - accuracy: 0.9773 - val_loss: 0.1015 - val_accuracy: 0.9724\n",
            "Epoch 7/10\n",
            "1563/1563 - 3s - loss: 0.0639 - accuracy: 0.9812 - val_loss: 0.0992 - val_accuracy: 0.9727\n",
            "Epoch 8/10\n",
            "1563/1563 - 3s - loss: 0.0562 - accuracy: 0.9827 - val_loss: 0.1024 - val_accuracy: 0.9716\n",
            "Epoch 9/10\n",
            "1563/1563 - 3s - loss: 0.0488 - accuracy: 0.9848 - val_loss: 0.1008 - val_accuracy: 0.9724\n",
            "Epoch 10/10\n",
            "1563/1563 - 3s - loss: 0.0437 - accuracy: 0.9866 - val_loss: 0.1057 - val_accuracy: 0.9727\n",
            "313/313 - 0s - loss: 0.0976 - accuracy: 0.9731\n"
          ],
          "name": "stdout"
        }
      ]
    },
    {
      "cell_type": "markdown",
      "metadata": {
        "id": "K2x4v59QIZoo"
      },
      "source": [
        "# 실습 MISSION\n",
        "다양한 optimizer를 테스트하고 수렴 속도를 확인하자\n",
        "\n",
        "위 MISSION에서 작성한 모델을 활용, \n",
        "두 개의 서로다른 모델(model_sgd, model_sgdm)을 만들어 아래 두 optimizer를 각각 적용하고 빌드하여 history를 다른이름으로 저장(history_sgd, history_sgdm)한 뒤 그래프로 나타내시오\n",
        "\n",
        "* SGD (기본설정)\n",
        "* SGD with learning rate 0.1, momentum 0.1\n",
        "\n",
        "(힌트, learning rate를 수정해보았던 것처럼 momentum 값도 커스터마이징할 수 있습니다!)"
      ]
    },
    {
      "cell_type": "code",
      "metadata": {
        "id": "zL4CMeKPKA7K",
        "outputId": "8ca34fa6-522d-4543-b47b-3ccb44ef6cb1",
        "colab": {
          "base_uri": "https://localhost:8080/"
        }
      },
      "source": [
        "# MISSION을 작성하세요\n",
        "model_sgd = tf.keras.models.Sequential([\n",
        "  tf.keras.layers.Flatten(input_shape=(28, 28, 1)),\n",
        "  tf.keras.layers.Dense(50, activation='relu'),\n",
        "  tf.keras.layers.Dense(10, activation='softmax')\n",
        "])\n",
        "model_sgdm = tf.keras.models.Sequential([\n",
        "  tf.keras.layers.Flatten(input_shape=(28, 28, 1)),\n",
        "  tf.keras.layers.Dense(50, activation='relu'),\n",
        "  tf.keras.layers.Dense(10, activation='softmax')\n",
        "])\n",
        "# 커스터마이징을 위해선 기존 방식 이용, 기본 기능 활용하려면 string으로 이름을 입력\n",
        "\n",
        "# 커스터마이징\n",
        "# sgd_optimizer = tf.keras.optimizers.SGD(learning_rate=1.0) \n",
        "# mse_loss = tf.keras.losses.MeanSquaredError()\n",
        "# model.compile(optimizer=sgd_optimizer, loss=mse_loss, metrics=['accuracy'])  \n",
        "\n",
        "# 기본 기능 활용\n",
        "sgd_optimizer = tf.keras.optimizers.SGD()\n",
        "model_sgd.compile(optimizer=sgd_optimizer,loss='mean_squared_error',metrics=['accuracy'])\n",
        "\n",
        "sgd_optimizer = tf.keras.optimizers.SGD(learning_rate=0.1, momentum=0.1) \n",
        "model_sgdm.compile(optimizer=sgd_optimizer,loss='mean_squared_error',metrics=['accuracy'])\n",
        "\n",
        "history_sgd = model_sgd.fit(x_train, y_train, epochs=10, validation_data=(x_val, y_val), verbose=2)\n",
        "result_sgd = model_sgd.evaluate(x_test,  y_test, verbose=2)\n",
        "\n",
        "history_sgdm = model_sgdm.fit(x_train, y_train, epochs=10, validation_data=(x_val, y_val), verbose=2)\n",
        "result_sgdm = model_sgdm.evaluate(x_test,  y_test, verbose=2)"
      ],
      "execution_count": 6,
      "outputs": [
        {
          "output_type": "stream",
          "text": [
            "Epoch 1/10\n",
            "1563/1563 - 3s - loss: 0.0887 - accuracy: 0.2008 - val_loss: 0.0853 - val_accuracy: 0.3261\n",
            "Epoch 2/10\n",
            "1563/1563 - 3s - loss: 0.0813 - accuracy: 0.3992 - val_loss: 0.0763 - val_accuracy: 0.4781\n",
            "Epoch 3/10\n",
            "1563/1563 - 3s - loss: 0.0716 - accuracy: 0.5196 - val_loss: 0.0656 - val_accuracy: 0.5755\n",
            "Epoch 4/10\n",
            "1563/1563 - 3s - loss: 0.0614 - accuracy: 0.6053 - val_loss: 0.0555 - val_accuracy: 0.6763\n",
            "Epoch 5/10\n",
            "1563/1563 - 3s - loss: 0.0524 - accuracy: 0.7165 - val_loss: 0.0466 - val_accuracy: 0.7868\n",
            "Epoch 6/10\n",
            "1563/1563 - 3s - loss: 0.0445 - accuracy: 0.7878 - val_loss: 0.0390 - val_accuracy: 0.8294\n",
            "Epoch 7/10\n",
            "1563/1563 - 3s - loss: 0.0382 - accuracy: 0.8191 - val_loss: 0.0334 - val_accuracy: 0.8502\n",
            "Epoch 8/10\n",
            "1563/1563 - 3s - loss: 0.0336 - accuracy: 0.8353 - val_loss: 0.0294 - val_accuracy: 0.8618\n",
            "Epoch 9/10\n",
            "1563/1563 - 3s - loss: 0.0303 - accuracy: 0.8463 - val_loss: 0.0265 - val_accuracy: 0.8701\n",
            "Epoch 10/10\n",
            "1563/1563 - 3s - loss: 0.0278 - accuracy: 0.8540 - val_loss: 0.0244 - val_accuracy: 0.8753\n",
            "313/313 - 0s - loss: 0.0253 - accuracy: 0.8669\n",
            "Epoch 1/10\n",
            "1563/1563 - 3s - loss: 0.0513 - accuracy: 0.6588 - val_loss: 0.0244 - val_accuracy: 0.8694\n",
            "Epoch 2/10\n",
            "1563/1563 - 3s - loss: 0.0218 - accuracy: 0.8733 - val_loss: 0.0167 - val_accuracy: 0.9002\n",
            "Epoch 3/10\n",
            "1563/1563 - 3s - loss: 0.0174 - accuracy: 0.8935 - val_loss: 0.0145 - val_accuracy: 0.9093\n",
            "Epoch 4/10\n",
            "1563/1563 - 3s - loss: 0.0156 - accuracy: 0.9027 - val_loss: 0.0135 - val_accuracy: 0.9146\n",
            "Epoch 5/10\n",
            "1563/1563 - 3s - loss: 0.0145 - accuracy: 0.9089 - val_loss: 0.0126 - val_accuracy: 0.9189\n",
            "Epoch 6/10\n",
            "1563/1563 - 3s - loss: 0.0136 - accuracy: 0.9141 - val_loss: 0.0121 - val_accuracy: 0.9217\n",
            "Epoch 7/10\n",
            "1563/1563 - 3s - loss: 0.0130 - accuracy: 0.9182 - val_loss: 0.0116 - val_accuracy: 0.9250\n",
            "Epoch 8/10\n",
            "1563/1563 - 3s - loss: 0.0124 - accuracy: 0.9219 - val_loss: 0.0112 - val_accuracy: 0.9280\n",
            "Epoch 9/10\n",
            "1563/1563 - 3s - loss: 0.0119 - accuracy: 0.9247 - val_loss: 0.0108 - val_accuracy: 0.9303\n",
            "Epoch 10/10\n",
            "1563/1563 - 3s - loss: 0.0115 - accuracy: 0.9279 - val_loss: 0.0105 - val_accuracy: 0.9319\n",
            "313/313 - 0s - loss: 0.0110 - accuracy: 0.9313\n"
          ],
          "name": "stdout"
        }
      ]
    },
    {
      "cell_type": "code",
      "metadata": {
        "id": "elK3MZxTCPVp",
        "outputId": "f7373b5f-2572-49ed-974e-70a4208586e2",
        "colab": {
          "base_uri": "https://localhost:8080/",
          "height": 606
        }
      },
      "source": [
        "import matplotlib.pyplot as plt\n",
        "\n",
        "def plot_history(histories):\n",
        "  plt.figure(figsize=(16,10))\n",
        "\n",
        "  for name, history in histories:\n",
        "    plt.plot(history.epoch, history.history['val_loss'], label=name.title()) \n",
        "\n",
        "  plt.xlabel('Epochs')\n",
        "  plt.ylabel('Loss')\n",
        "  plt.legend()\n",
        "\n",
        "  plt.xlim([0,max(history.epoch)])\n",
        "  \n",
        "plot_history([('SGD', history_sgd),\n",
        "              ('SGD w/momentum', history_sgdm)])"
      ],
      "execution_count": 7,
      "outputs": [
        {
          "output_type": "display_data",
          "data": {
            "image/png": "[encoded data removed]",
            "text/plain": [
              "<Figure size 1152x720 with 1 Axes>"
            ]
          },
          "metadata": {
            "tags": [],
            "needs_background": "light"
          }
        }
      ]
    },
    {
      "cell_type": "code",
      "metadata": {
        "id": "25GDS7YQWEV2"
      },
      "source": [
        ""
      ],
      "execution_count": null,
      "outputs": []
    }
  ]
}