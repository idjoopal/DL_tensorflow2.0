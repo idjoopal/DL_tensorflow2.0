{
  "nbformat": 4,
  "nbformat_minor": 0,
  "metadata": {
    "colab": {
      "name": "실습_3_regularization.ipynb",
      "provenance": [],
      "collapsed_sections": [],
      "toc_visible": true,
      "include_colab_link": true
    },
    "kernelspec": {
      "name": "python3",
      "display_name": "Python 3"
    },
    "accelerator": "GPU"
  },
  "cells": [
    {
      "cell_type": "markdown",
      "metadata": {
        "id": "view-in-github",
        "colab_type": "text"
      },
      "source": [
        "<a href=\"https://colab.research.google.com/github/idjoopal/DL_tensorflow2.0/blob/main/%EC%8B%A4%EC%8A%B5_3_regularization.ipynb\" target=\"_parent\"><img src=\"https://colab.research.google.com/assets/colab-badge.svg\" alt=\"Open In Colab\"/></a>"
      ]
    },
    {
      "cell_type": "markdown",
      "metadata": {
        "id": "5_taevr_MPdB"
      },
      "source": [
        "# Regularization"
      ]
    },
    {
      "cell_type": "code",
      "metadata": {
        "id": "VHSOO82gLgzc"
      },
      "source": [
        "import tensorflow as tf \n",
        "\n",
        "from tensorflow.keras.layers import Dense, Flatten \n",
        "from tensorflow.keras.models import Sequential"
      ],
      "execution_count": 1,
      "outputs": []
    },
    {
      "cell_type": "markdown",
      "metadata": {
        "id": "7zqoIK4yMBz7"
      },
      "source": [
        "아래 코드는 Learning curve를 그리는 기능을 수행합니다"
      ]
    },
    {
      "cell_type": "code",
      "metadata": {
        "id": "EfXpR2kdtPkO"
      },
      "source": [
        "import matplotlib.pyplot as plt\n",
        "\n",
        "def plot_history(histories):\n",
        "  plt.figure(figsize=(9,6))\n",
        "\n",
        "  for history in histories:\n",
        "    plt.plot(history.epoch, history.history['accuracy'], label='training')\n",
        "    plt.plot(history.epoch, history.history['val_accuracy'], label='validation')\n",
        "\n",
        "  plt.xlabel('Epochs')\n",
        "  plt.ylabel('ACC')\n",
        "  plt.legend()\n",
        "\n",
        "  plt.xlim([0,max(history.epoch)])"
      ],
      "execution_count": 2,
      "outputs": []
    },
    {
      "cell_type": "markdown",
      "metadata": {
        "id": "3CpPRzPKCYh6"
      },
      "source": [
        "MNIST 데이터 로드\n"
      ]
    },
    {
      "cell_type": "code",
      "metadata": {
        "id": "USG4Wm4lCPzE",
        "outputId": "4b31bfdb-a3c5-4c45-cb32-a05bfd0119ad",
        "colab": {
          "base_uri": "https://localhost:8080/"
        }
      },
      "source": [
        "# data load\n",
        "mnist = tf.keras.datasets.mnist\n",
        "(x_train, y_train), (x_test, y_test) = mnist.load_data()\n",
        "\n",
        "# 0~255의 픽셀 값을 0~1로 조정\n",
        "x_train, x_test = x_train / 255.0, x_test / 255.0\n",
        "\n",
        "# shape 조정\n",
        "x_train = x_train.reshape(60000,28,28,1)\n",
        "x_test = x_test.reshape(10000,28,28,1)\n",
        "\n",
        "# 정답 label을 길이10 벡터화\n",
        "y_train = tf.one_hot(y_train, depth=10)\n",
        "y_test = tf.one_hot(y_test, depth=10)\n",
        "\n",
        "# validation set 별도 구분\n",
        "x_train, x_val = x_train[:50000], x_train[50000:]\n",
        "y_train, y_val = y_train[:50000], y_train[50000:]"
      ],
      "execution_count": 3,
      "outputs": [
        {
          "output_type": "stream",
          "text": [
            "Downloading data from https://storage.googleapis.com/tensorflow/tf-keras-datasets/mnist.npz\n",
            "11493376/11490434 [==============================] - 0s 0us/step\n"
          ],
          "name": "stdout"
        }
      ]
    },
    {
      "cell_type": "markdown",
      "metadata": {
        "id": "TEOFq6uym13R"
      },
      "source": [
        "# 실습 MISSION\n",
        "### 기준모델을 만들어 다양한 regularization 적용하기\n",
        "\n",
        "* hidden size 1024짜리 Dense레이어 5층 쌓기\n",
        "* Activation으로 ReLU 이용\n",
        "* 출력 Dense레이어에서 softmax 활용하여 10개 숫자 분류\n"
      ]
    },
    {
      "cell_type": "code",
      "metadata": {
        "id": "rMqQHhsECPrb",
        "outputId": "f46bd237-cb3a-469f-fc47-723093384bd6",
        "colab": {
          "base_uri": "https://localhost:8080/",
          "height": 1000
        }
      },
      "source": [
        "model = tf.keras.models.Sequential([ \n",
        "\n",
        "# 미션을 작성하세요!  \n",
        "Flatten(),\n",
        "Dense(1024, activation='relu'),\n",
        "Dense(1024, activation='relu'),\n",
        "Dense(1024, activation='relu'),\n",
        "Dense(1024, activation='relu'),\n",
        "Dense(1024, activation='relu'),\n",
        "Dense(10, activation='softmax')\n",
        "])\n",
        "\n",
        "model.compile(optimizer='adam',loss='categorical_crossentropy',metrics=['accuracy'])\n",
        "\n",
        "history = model.fit(x_train, y_train, batch_size=256, epochs=25, validation_data=(x_val, y_val), verbose=1)\n",
        "result = model.evaluate(x_test,  y_test, verbose=2)\n",
        "\n",
        "plot_history([history])"
      ],
      "execution_count": 4,
      "outputs": [
        {
          "output_type": "stream",
          "text": [
            "Epoch 1/25\n",
            "196/196 [==============================] - 1s 7ms/step - loss: 0.2988 - accuracy: 0.9076 - val_loss: 0.1356 - val_accuracy: 0.9615\n",
            "Epoch 2/25\n",
            "196/196 [==============================] - 1s 6ms/step - loss: 0.1028 - accuracy: 0.9700 - val_loss: 0.1225 - val_accuracy: 0.9646\n",
            "Epoch 3/25\n",
            "196/196 [==============================] - 1s 6ms/step - loss: 0.0688 - accuracy: 0.9796 - val_loss: 0.1048 - val_accuracy: 0.9708\n",
            "Epoch 4/25\n",
            "196/196 [==============================] - 1s 6ms/step - loss: 0.0573 - accuracy: 0.9837 - val_loss: 0.1000 - val_accuracy: 0.9751\n",
            "Epoch 5/25\n",
            "196/196 [==============================] - 1s 6ms/step - loss: 0.0467 - accuracy: 0.9865 - val_loss: 0.1001 - val_accuracy: 0.9744\n",
            "Epoch 6/25\n",
            "196/196 [==============================] - 1s 6ms/step - loss: 0.0377 - accuracy: 0.9890 - val_loss: 0.0969 - val_accuracy: 0.9755\n",
            "Epoch 7/25\n",
            "196/196 [==============================] - 1s 6ms/step - loss: 0.0362 - accuracy: 0.9897 - val_loss: 0.1169 - val_accuracy: 0.9780\n",
            "Epoch 8/25\n",
            "196/196 [==============================] - 1s 6ms/step - loss: 0.0316 - accuracy: 0.9912 - val_loss: 0.1177 - val_accuracy: 0.9753\n",
            "Epoch 9/25\n",
            "196/196 [==============================] - 1s 6ms/step - loss: 0.0268 - accuracy: 0.9926 - val_loss: 0.1079 - val_accuracy: 0.9775\n",
            "Epoch 10/25\n",
            "196/196 [==============================] - 1s 6ms/step - loss: 0.0236 - accuracy: 0.9934 - val_loss: 0.0930 - val_accuracy: 0.9812\n",
            "Epoch 11/25\n",
            "196/196 [==============================] - 1s 6ms/step - loss: 0.0277 - accuracy: 0.9926 - val_loss: 0.1613 - val_accuracy: 0.9713\n",
            "Epoch 12/25\n",
            "196/196 [==============================] - 1s 6ms/step - loss: 0.0286 - accuracy: 0.9922 - val_loss: 0.1064 - val_accuracy: 0.9771\n",
            "Epoch 13/25\n",
            "196/196 [==============================] - 1s 6ms/step - loss: 0.0237 - accuracy: 0.9941 - val_loss: 0.1246 - val_accuracy: 0.9754\n",
            "Epoch 14/25\n",
            "196/196 [==============================] - 1s 6ms/step - loss: 0.0179 - accuracy: 0.9951 - val_loss: 0.1066 - val_accuracy: 0.9794\n",
            "Epoch 15/25\n",
            "196/196 [==============================] - 1s 6ms/step - loss: 0.0134 - accuracy: 0.9962 - val_loss: 0.1078 - val_accuracy: 0.9792\n",
            "Epoch 16/25\n",
            "196/196 [==============================] - 1s 6ms/step - loss: 0.0160 - accuracy: 0.9957 - val_loss: 0.1207 - val_accuracy: 0.9805\n",
            "Epoch 17/25\n",
            "196/196 [==============================] - 1s 6ms/step - loss: 0.0214 - accuracy: 0.9947 - val_loss: 0.1123 - val_accuracy: 0.9784\n",
            "Epoch 18/25\n",
            "196/196 [==============================] - 1s 6ms/step - loss: 0.0151 - accuracy: 0.9961 - val_loss: 0.1413 - val_accuracy: 0.9750\n",
            "Epoch 19/25\n",
            "196/196 [==============================] - 1s 6ms/step - loss: 0.0149 - accuracy: 0.9967 - val_loss: 0.1354 - val_accuracy: 0.9779\n",
            "Epoch 20/25\n",
            "196/196 [==============================] - 1s 6ms/step - loss: 0.0206 - accuracy: 0.9953 - val_loss: 0.1397 - val_accuracy: 0.9762\n",
            "Epoch 21/25\n",
            "196/196 [==============================] - 1s 6ms/step - loss: 0.0182 - accuracy: 0.9956 - val_loss: 0.1108 - val_accuracy: 0.9766\n",
            "Epoch 22/25\n",
            "196/196 [==============================] - 1s 6ms/step - loss: 0.0147 - accuracy: 0.9961 - val_loss: 0.1110 - val_accuracy: 0.9813\n",
            "Epoch 23/25\n",
            "196/196 [==============================] - 1s 6ms/step - loss: 0.0138 - accuracy: 0.9968 - val_loss: 0.1584 - val_accuracy: 0.9748\n",
            "Epoch 24/25\n",
            "196/196 [==============================] - 1s 6ms/step - loss: 0.0202 - accuracy: 0.9950 - val_loss: 0.1678 - val_accuracy: 0.9804\n",
            "Epoch 25/25\n",
            "196/196 [==============================] - 1s 6ms/step - loss: 0.0118 - accuracy: 0.9973 - val_loss: 0.1610 - val_accuracy: 0.9801\n",
            "313/313 - 1s - loss: 0.1361 - accuracy: 0.9813\n"
          ],
          "name": "stdout"
        },
        {
          "output_type": "display_data",
          "data": {
            "image/png": "[encoded data removed]",
            "text/plain": [
              "<Figure size 648x432 with 1 Axes>"
            ]
          },
          "metadata": {
            "tags": [],
            "needs_background": "light"
          }
        }
      ]
    },
    {
      "cell_type": "markdown",
      "metadata": {
        "id": "Pyazx80kptNs"
      },
      "source": [
        "### Early stopping 구현하기\n",
        "\n",
        "위 작성한 모델을 복사해오기, 50 epoch동안 학습하도록 수정\n",
        "\n",
        "매 epoch마다 validation accuracy의 개선이 없으면 학습을 거기서 중단하도록 하자!\n",
        "\n",
        "몇 번 봐줄까? --> patience 옵션을 통해 조절\n",
        "\n",
        "* 한번이라도 정확도가 감소하면 바로 stop!\n",
        "* 두번은 봐주자! 연속 두번 감소하면 그때 stop!\n",
        "* ...\n",
        "\n",
        "tf.keras.callbacks.EarlyStopping 기능 활용,\n",
        "매 epoch마다 지정한 metric을 기준으로 early stopping을 선정 가능"
      ]
    },
    {
      "cell_type": "code",
      "metadata": {
        "id": "25GDS7YQWEV2",
        "outputId": "34b896b8-6127-4f70-d27c-8506b0d2300a",
        "colab": {
          "base_uri": "https://localhost:8080/",
          "height": 1000
        }
      },
      "source": [
        "model = tf.keras.models.Sequential([\n",
        "\n",
        "# 미션을 작성하세요!  \n",
        "Flatten(),\n",
        "Dense(1024, activation='relu'),\n",
        "Dense(1024, activation='relu'),\n",
        "Dense(1024, activation='relu'),\n",
        "Dense(1024, activation='relu'),\n",
        "Dense(1024, activation='relu'),\n",
        "Dense(10, activation='softmax')\n",
        "\n",
        "])\n",
        "\n",
        "model.compile(optimizer='adam',loss='categorical_crossentropy',metrics=['accuracy'])\n",
        "\n",
        "early_stop = tf.keras.callbacks.EarlyStopping(monitor='val_accuracy', patience=3)  # 빈칸을 채워봅시다!\n",
        "\n",
        "history = model.fit(x_train, y_train, batch_size=256, epochs=50, validation_data=(x_val, y_val), callbacks=[early_stop], verbose=1)\n",
        "result = model.evaluate(x_test,  y_test, verbose=2)\n",
        "plot_history([history])"
      ],
      "execution_count": 6,
      "outputs": [
        {
          "output_type": "stream",
          "text": [
            "Epoch 1/50\n",
            "196/196 [==============================] - 1s 6ms/step - loss: 0.2732 - accuracy: 0.9150 - val_loss: 0.1113 - val_accuracy: 0.9675\n",
            "Epoch 2/50\n",
            "196/196 [==============================] - 1s 5ms/step - loss: 0.1025 - accuracy: 0.9689 - val_loss: 0.1006 - val_accuracy: 0.9705\n",
            "Epoch 3/50\n",
            "196/196 [==============================] - 1s 5ms/step - loss: 0.0611 - accuracy: 0.9818 - val_loss: 0.1063 - val_accuracy: 0.9697\n",
            "Epoch 4/50\n",
            "196/196 [==============================] - 1s 5ms/step - loss: 0.0506 - accuracy: 0.9851 - val_loss: 0.0993 - val_accuracy: 0.9728\n",
            "Epoch 5/50\n",
            "196/196 [==============================] - 1s 5ms/step - loss: 0.0427 - accuracy: 0.9870 - val_loss: 0.1014 - val_accuracy: 0.9742\n",
            "Epoch 6/50\n",
            "196/196 [==============================] - 1s 5ms/step - loss: 0.0354 - accuracy: 0.9900 - val_loss: 0.0877 - val_accuracy: 0.9759\n",
            "Epoch 7/50\n",
            "196/196 [==============================] - 1s 5ms/step - loss: 0.0258 - accuracy: 0.9923 - val_loss: 0.0967 - val_accuracy: 0.9770\n",
            "Epoch 8/50\n",
            "196/196 [==============================] - 1s 5ms/step - loss: 0.0254 - accuracy: 0.9922 - val_loss: 0.1000 - val_accuracy: 0.9782\n",
            "Epoch 9/50\n",
            "196/196 [==============================] - 1s 5ms/step - loss: 0.0238 - accuracy: 0.9932 - val_loss: 0.1203 - val_accuracy: 0.9742\n",
            "Epoch 10/50\n",
            "196/196 [==============================] - 1s 5ms/step - loss: 0.0235 - accuracy: 0.9932 - val_loss: 0.1206 - val_accuracy: 0.9763\n",
            "Epoch 11/50\n",
            "196/196 [==============================] - 1s 5ms/step - loss: 0.0165 - accuracy: 0.9950 - val_loss: 0.0937 - val_accuracy: 0.9809\n",
            "Epoch 12/50\n",
            "196/196 [==============================] - 1s 5ms/step - loss: 0.0188 - accuracy: 0.9949 - val_loss: 0.1009 - val_accuracy: 0.9801\n",
            "Epoch 13/50\n",
            "196/196 [==============================] - 1s 5ms/step - loss: 0.0203 - accuracy: 0.9946 - val_loss: 0.0869 - val_accuracy: 0.9798\n",
            "Epoch 14/50\n",
            "196/196 [==============================] - 1s 5ms/step - loss: 0.0138 - accuracy: 0.9959 - val_loss: 0.1081 - val_accuracy: 0.9812\n",
            "Epoch 15/50\n",
            "196/196 [==============================] - 1s 5ms/step - loss: 0.0146 - accuracy: 0.9956 - val_loss: 0.1113 - val_accuracy: 0.9754\n",
            "Epoch 16/50\n",
            "196/196 [==============================] - 1s 5ms/step - loss: 0.0160 - accuracy: 0.9952 - val_loss: 0.1055 - val_accuracy: 0.9781\n",
            "Epoch 17/50\n",
            "196/196 [==============================] - 1s 5ms/step - loss: 0.0159 - accuracy: 0.9954 - val_loss: 0.1138 - val_accuracy: 0.9783\n",
            "313/313 - 1s - loss: 0.1123 - accuracy: 0.9783\n"
          ],
          "name": "stdout"
        },
        {
          "output_type": "display_data",
          "data": {
            "image/png": "[encoded data removed]",
            "text/plain": [
              "<Figure size 648x432 with 1 Axes>"
            ]
          },
          "metadata": {
            "tags": [],
            "needs_background": "light"
          }
        }
      ]
    },
    {
      "cell_type": "markdown",
      "metadata": {
        "id": "ATFvlt9VsCjS"
      },
      "source": [
        "### Capacity 조정 및 Dropout 구현하기\n",
        "\n",
        "기준 모델을 복사해오기\n",
        "\n",
        "hidden 2층과 output layer만 남기기\n",
        "\n",
        "Dropout layer 활용, 레이어 사이마다 50% dropout 적용하기"
      ]
    },
    {
      "cell_type": "code",
      "metadata": {
        "id": "AmkQ6brGrLuX",
        "outputId": "e11d1384-f1d8-4d4f-c96a-dd03a0a47d97",
        "colab": {
          "base_uri": "https://localhost:8080/",
          "height": 1000
        }
      },
      "source": [
        "# 필요한 기능을 import합니다\n",
        "from tensorflow.keras.layers import Dropout\n",
        "\n",
        "model = tf.keras.models.Sequential([\n",
        "\n",
        "# 미션을 작성하세요!\n",
        "Flatten(),\n",
        "Dropout(rate=0.5),\n",
        "Dense(1024, activation='relu'),\n",
        "Dropout(rate=0.5),\n",
        "Dense(1024, activation='relu'),\n",
        "Dropout(rate=0.5),\n",
        "Dense(10, activation='softmax')\n",
        "])\n",
        "\n",
        "model.compile(optimizer='adam',loss='categorical_crossentropy',metrics=['accuracy']) \n",
        "\n",
        "history = model.fit(x_train, y_train, batch_size=256, epochs=25, validation_data=(x_val, y_val), verbose=1)\n",
        "result = model.evaluate(x_test,  y_test, verbose=2)\n",
        "plot_history([history])"
      ],
      "execution_count": 7,
      "outputs": [
        {
          "output_type": "stream",
          "text": [
            "Epoch 1/25\n",
            "196/196 [==============================] - 1s 5ms/step - loss: 0.5814 - accuracy: 0.8130 - val_loss: 0.1700 - val_accuracy: 0.9523\n",
            "Epoch 2/25\n",
            "196/196 [==============================] - 1s 4ms/step - loss: 0.3125 - accuracy: 0.9007 - val_loss: 0.1310 - val_accuracy: 0.9622\n",
            "Epoch 3/25\n",
            "196/196 [==============================] - 1s 4ms/step - loss: 0.2481 - accuracy: 0.9211 - val_loss: 0.1051 - val_accuracy: 0.9689\n",
            "Epoch 4/25\n",
            "196/196 [==============================] - 1s 4ms/step - loss: 0.2192 - accuracy: 0.9316 - val_loss: 0.0997 - val_accuracy: 0.9706\n",
            "Epoch 5/25\n",
            "196/196 [==============================] - 1s 4ms/step - loss: 0.1992 - accuracy: 0.9363 - val_loss: 0.0923 - val_accuracy: 0.9724\n",
            "Epoch 6/25\n",
            "196/196 [==============================] - 1s 4ms/step - loss: 0.1886 - accuracy: 0.9399 - val_loss: 0.0818 - val_accuracy: 0.9752\n",
            "Epoch 7/25\n",
            "196/196 [==============================] - 1s 4ms/step - loss: 0.1702 - accuracy: 0.9460 - val_loss: 0.0803 - val_accuracy: 0.9755\n",
            "Epoch 8/25\n",
            "196/196 [==============================] - 1s 4ms/step - loss: 0.1651 - accuracy: 0.9465 - val_loss: 0.0759 - val_accuracy: 0.9777\n",
            "Epoch 9/25\n",
            "196/196 [==============================] - 1s 4ms/step - loss: 0.1607 - accuracy: 0.9491 - val_loss: 0.0779 - val_accuracy: 0.9763\n",
            "Epoch 10/25\n",
            "196/196 [==============================] - 1s 4ms/step - loss: 0.1511 - accuracy: 0.9513 - val_loss: 0.0737 - val_accuracy: 0.9781\n",
            "Epoch 11/25\n",
            "196/196 [==============================] - 1s 4ms/step - loss: 0.1459 - accuracy: 0.9531 - val_loss: 0.0728 - val_accuracy: 0.9790\n",
            "Epoch 12/25\n",
            "196/196 [==============================] - 1s 4ms/step - loss: 0.1412 - accuracy: 0.9546 - val_loss: 0.0693 - val_accuracy: 0.9798\n",
            "Epoch 13/25\n",
            "196/196 [==============================] - 1s 4ms/step - loss: 0.1386 - accuracy: 0.9557 - val_loss: 0.0733 - val_accuracy: 0.9782\n",
            "Epoch 14/25\n",
            "196/196 [==============================] - 1s 4ms/step - loss: 0.1347 - accuracy: 0.9571 - val_loss: 0.0734 - val_accuracy: 0.9776\n",
            "Epoch 15/25\n",
            "196/196 [==============================] - 1s 4ms/step - loss: 0.1344 - accuracy: 0.9571 - val_loss: 0.0710 - val_accuracy: 0.9784\n",
            "Epoch 16/25\n",
            "196/196 [==============================] - 1s 4ms/step - loss: 0.1296 - accuracy: 0.9577 - val_loss: 0.0687 - val_accuracy: 0.9789\n",
            "Epoch 17/25\n",
            "196/196 [==============================] - 1s 4ms/step - loss: 0.1248 - accuracy: 0.9600 - val_loss: 0.0633 - val_accuracy: 0.9811\n",
            "Epoch 18/25\n",
            "196/196 [==============================] - 1s 4ms/step - loss: 0.1257 - accuracy: 0.9604 - val_loss: 0.0655 - val_accuracy: 0.9798\n",
            "Epoch 19/25\n",
            "196/196 [==============================] - 1s 4ms/step - loss: 0.1207 - accuracy: 0.9619 - val_loss: 0.0647 - val_accuracy: 0.9803\n",
            "Epoch 20/25\n",
            "196/196 [==============================] - 1s 4ms/step - loss: 0.1190 - accuracy: 0.9610 - val_loss: 0.0612 - val_accuracy: 0.9817\n",
            "Epoch 21/25\n",
            "196/196 [==============================] - 1s 4ms/step - loss: 0.1181 - accuracy: 0.9624 - val_loss: 0.0608 - val_accuracy: 0.9817\n",
            "Epoch 22/25\n",
            "196/196 [==============================] - 1s 4ms/step - loss: 0.1145 - accuracy: 0.9638 - val_loss: 0.0627 - val_accuracy: 0.9806\n",
            "Epoch 23/25\n",
            "196/196 [==============================] - 1s 4ms/step - loss: 0.1173 - accuracy: 0.9621 - val_loss: 0.0625 - val_accuracy: 0.9819\n",
            "Epoch 24/25\n",
            "196/196 [==============================] - 1s 4ms/step - loss: 0.1139 - accuracy: 0.9628 - val_loss: 0.0610 - val_accuracy: 0.9813\n",
            "Epoch 25/25\n",
            "196/196 [==============================] - 1s 4ms/step - loss: 0.1116 - accuracy: 0.9637 - val_loss: 0.0622 - val_accuracy: 0.9810\n",
            "313/313 - 1s - loss: 0.0578 - accuracy: 0.9801\n"
          ],
          "name": "stdout"
        },
        {
          "output_type": "display_data",
          "data": {
            "image/png": "[encoded data removed]",
            "text/plain": [
              "<Figure size 648x432 with 1 Axes>"
            ]
          },
          "metadata": {
            "tags": [],
            "needs_background": "light"
          }
        }
      ]
    },
    {
      "cell_type": "code",
      "metadata": {
        "id": "z6r3geRANxNF"
      },
      "source": [
        ""
      ],
      "execution_count": null,
      "outputs": []
    }
  ]
}