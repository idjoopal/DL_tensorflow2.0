{
  "nbformat": 4,
  "nbformat_minor": 0,
  "metadata": {
    "colab": {
      "name": "실습_4_CNN.ipynb",
      "provenance": [],
      "collapsed_sections": [],
      "toc_visible": true,
      "include_colab_link": true
    },
    "kernelspec": {
      "name": "python3",
      "display_name": "Python 3"
    }
  },
  "cells": [
    {
      "cell_type": "markdown",
      "metadata": {
        "id": "view-in-github",
        "colab_type": "text"
      },
      "source": [
        "<a href=\"https://colab.research.google.com/github/idjoopal/DL_tensorflow2.0/blob/main/%EC%8B%A4%EC%8A%B5_4_CNN.ipynb\" target=\"_parent\"><img src=\"https://colab.research.google.com/assets/colab-badge.svg\" alt=\"Open In Colab\"/></a>"
      ]
    },
    {
      "cell_type": "markdown",
      "metadata": {
        "id": "1ZbgG9yBMziQ"
      },
      "source": [
        "\n",
        "#CNN\n"
      ]
    },
    {
      "cell_type": "code",
      "metadata": {
        "id": "VHSOO82gLgzc"
      },
      "source": [
        "import tensorflow as tf \n",
        "\n",
        "from tensorflow.keras.layers import Dense, Flatten, Conv2D, MaxPool2D\n",
        "from tensorflow.keras.models import Sequential"
      ],
      "execution_count": 1,
      "outputs": []
    },
    {
      "cell_type": "markdown",
      "metadata": {
        "id": "hGSoUF1AUfdO"
      },
      "source": [
        "> Conv2D의 활용을 이해해봅시다!"
      ]
    },
    {
      "cell_type": "code",
      "metadata": {
        "id": "L6KRsAT7VpDe"
      },
      "source": [
        "model_conv = Sequential([\n",
        "                          Conv2D(10, kernel_size=3, activation='relu', input_shape=(28, 28, 1)) # MNIST data : 가로세로 28픽셀, 회색조 이미지\n",
        "                          ]) "
      ],
      "execution_count": 2,
      "outputs": []
    },
    {
      "cell_type": "code",
      "metadata": {
        "id": "JYMIUwmid0MF",
        "outputId": "c5469347-441d-40da-899d-8ebe7dc6cd20",
        "colab": {
          "base_uri": "https://localhost:8080/"
        }
      },
      "source": [
        "model_conv.summary()"
      ],
      "execution_count": 3,
      "outputs": [
        {
          "output_type": "stream",
          "text": [
            "Model: \"sequential\"\n",
            "_________________________________________________________________\n",
            "Layer (type)                 Output Shape              Param #   \n",
            "=================================================================\n",
            "conv2d (Conv2D)              (None, 26, 26, 10)        100       \n",
            "=================================================================\n",
            "Total params: 100\n",
            "Trainable params: 100\n",
            "Non-trainable params: 0\n",
            "_________________________________________________________________\n"
          ],
          "name": "stdout"
        }
      ]
    },
    {
      "cell_type": "markdown",
      "metadata": {
        "id": "0wkXt1VPWdBr"
      },
      "source": [
        "\n",
        "### <font color='red'>MISSION 1</font>\n",
        "> input의 shape가 \"[None, 100, 100, 1]\"일 때\n",
        "> output의 shape가 '[None, 91, 91, 30]'이 되도록 Conv Layer를 한 층 쌓아보자."
      ]
    },
    {
      "cell_type": "code",
      "metadata": {
        "id": "2XFOLfXrWhxD",
        "outputId": "ec8a4a27-b257-4ea5-91da-4c2fb79a7c8e",
        "colab": {
          "base_uri": "https://localhost:8080/"
        }
      },
      "source": [
        "model_mission1 = Sequential([\n",
        "                             #### ANSWER #### \n",
        "                             Conv2D(10, kernel_size=3, activation='relu', input_shape=(100, 100, 1)),\n",
        "                             Conv2D(30, kernel_size=8, activation='relu', input_shape=(98, 98, 10))\n",
        "                             ################\n",
        "                             ])\n",
        "model_mission1.summary()"
      ],
      "execution_count": 9,
      "outputs": [
        {
          "output_type": "stream",
          "text": [
            "Model: \"sequential_3\"\n",
            "_________________________________________________________________\n",
            "Layer (type)                 Output Shape              Param #   \n",
            "=================================================================\n",
            "conv2d_4 (Conv2D)            (None, 98, 98, 10)        100       \n",
            "_________________________________________________________________\n",
            "conv2d_5 (Conv2D)            (None, 91, 91, 30)        19230     \n",
            "=================================================================\n",
            "Total params: 19,330\n",
            "Trainable params: 19,330\n",
            "Non-trainable params: 0\n",
            "_________________________________________________________________\n"
          ],
          "name": "stdout"
        }
      ]
    },
    {
      "cell_type": "markdown",
      "metadata": {
        "id": "0Hemoa_heZ9_"
      },
      "source": [
        "> Maxpool의 활용을 이해해봅시다!"
      ]
    },
    {
      "cell_type": "code",
      "metadata": {
        "id": "qbUnSfi4blYm"
      },
      "source": [
        "model_mp1 = Sequential([\n",
        "                        MaxPool2D(pool_size=(3, 3), input_shape=(15, 15, 3))\n",
        "])"
      ],
      "execution_count": 10,
      "outputs": []
    },
    {
      "cell_type": "code",
      "metadata": {
        "id": "nMCHG4DMfIdZ",
        "outputId": "a38e9ae3-2c7c-4b8a-e2c1-fc2372eaa853",
        "colab": {
          "base_uri": "https://localhost:8080/"
        }
      },
      "source": [
        "print(model_mp1.input_shape)\n",
        "print(model_mp1.output_shape)"
      ],
      "execution_count": 11,
      "outputs": [
        {
          "output_type": "stream",
          "text": [
            "(None, 15, 15, 3)\n",
            "(None, 5, 5, 3)\n"
          ],
          "name": "stdout"
        }
      ]
    },
    {
      "cell_type": "code",
      "metadata": {
        "id": "zsC3q3rNf_Pc"
      },
      "source": [
        "model_mp2 = Sequential([\n",
        "                        MaxPool2D(pool_size=(3, 3), input_shape=(30, 30, 3))\n",
        "])"
      ],
      "execution_count": 12,
      "outputs": []
    },
    {
      "cell_type": "code",
      "metadata": {
        "id": "yTGEKZg9iDoV",
        "outputId": "bca892b3-52d9-4de4-d947-0ef8b5f9d57c",
        "colab": {
          "base_uri": "https://localhost:8080/"
        }
      },
      "source": [
        "# 프린트하기 전에 정답을 예상해봅시다~!\n",
        "\n",
        "print(model_mp2.input_shape)\n",
        "print(model_mp2.output_shape)"
      ],
      "execution_count": 13,
      "outputs": [
        {
          "output_type": "stream",
          "text": [
            "(None, 30, 30, 3)\n",
            "(None, 10, 10, 3)\n"
          ],
          "name": "stdout"
        }
      ]
    },
    {
      "cell_type": "markdown",
      "metadata": {
        "id": "UNqY8gAiUy67"
      },
      "source": [
        "# 실습 MISSION\n",
        "### CIFAR10 데이터가 입력된다고 가정하고 네트워크를 구성해보자\n",
        "\n",
        "CIFAR10 : 32 x 32 픽셀, RGB 컬러 이미지\n",
        "\n",
        "* 3x3 필터를 64장 적용하는 convolution layer 1 층\n",
        "* 2x2 pooling을 적용하는 MaxPool layer 1층\n",
        "* 4x4 필터를 128장 적용하는 convolution layer 1 층\n",
        "* 3x3 pooling을 적용하는 MaxPool layer 1층\n",
        "* 3x3 필터를 100장 적용하는 convolution layer 1 층 \n",
        "* 2x2 pooling을 적용하는 MaxPool layer 1층\n",
        "\n",
        "* 모든 conv layer의 activation function으로 ReLU를 활용할 것\n",
        "\n",
        "> output shape : (1, 1, 100)"
      ]
    },
    {
      "cell_type": "code",
      "metadata": {
        "id": "NRwMgDW750mI",
        "outputId": "a119721f-2e30-41e5-c3b9-483d39982013",
        "colab": {
          "base_uri": "https://localhost:8080/"
        }
      },
      "source": [
        "final_model1 = Sequential([\n",
        "                           # 여기에 mission 코드를 작성하세요 \n",
        "                           Conv2D(64, kernel_size=3, activation='relu', input_shape=(32, 32, 1))\n",
        "                           , MaxPool2D(pool_size=(2, 2), input_shape=(30, 30, 64))\n",
        "\n",
        "                           , Conv2D(128, kernel_size=4, activation='relu', input_shape=(15, 15, 64))\n",
        "                           , MaxPool2D(pool_size=(3, 3), input_shape=(12, 12, 128))\n",
        "\n",
        "                           , Conv2D(100, kernel_size=3, activation='relu', input_shape=(4, 4, 128))\n",
        "                           , MaxPool2D(pool_size=(2, 2), input_shape=(30, 30, 100))\n",
        "])\n",
        "\n",
        "final_model1.summary()"
      ],
      "execution_count": 17,
      "outputs": [
        {
          "output_type": "stream",
          "text": [
            "Model: \"sequential_9\"\n",
            "_________________________________________________________________\n",
            "Layer (type)                 Output Shape              Param #   \n",
            "=================================================================\n",
            "conv2d_11 (Conv2D)           (None, 30, 30, 64)        640       \n",
            "_________________________________________________________________\n",
            "max_pooling2d_7 (MaxPooling2 (None, 15, 15, 64)        0         \n",
            "_________________________________________________________________\n",
            "conv2d_12 (Conv2D)           (None, 12, 12, 128)       131200    \n",
            "_________________________________________________________________\n",
            "max_pooling2d_8 (MaxPooling2 (None, 4, 4, 128)         0         \n",
            "_________________________________________________________________\n",
            "conv2d_13 (Conv2D)           (None, 2, 2, 100)         115300    \n",
            "_________________________________________________________________\n",
            "max_pooling2d_9 (MaxPooling2 (None, 1, 1, 100)         0         \n",
            "=================================================================\n",
            "Total params: 247,140\n",
            "Trainable params: 247,140\n",
            "Non-trainable params: 0\n",
            "_________________________________________________________________\n"
          ],
          "name": "stdout"
        }
      ]
    },
    {
      "cell_type": "code",
      "metadata": {
        "id": "o0HWPaUJxWwP"
      },
      "source": [
        ""
      ],
      "execution_count": null,
      "outputs": []
    }
  ]
}